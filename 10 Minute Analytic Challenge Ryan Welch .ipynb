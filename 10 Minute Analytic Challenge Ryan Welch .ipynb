{
 "cells": [
  {
   "cell_type": "markdown",
   "id": "2ebd3fb6",
   "metadata": {},
   "source": [
    "Link for presentation video: https://pitt.hosted.panopto.com/Panopto/Pages/Viewer.aspx?id=f4fd9327-b9cf-4a88-9ea5-adfc0064d573"
   ]
  },
  {
   "cell_type": "markdown",
   "id": "6b18534e",
   "metadata": {},
   "source": [
    "# Ten Minute Analytics Challenge \n",
    "### By Ryan Welch "
   ]
  },
  {
   "cell_type": "markdown",
   "id": "a5f75284",
   "metadata": {},
   "source": [
    "<img src=\"https://cdn.abcotvs.com/dip/images/5999882_031020-wpvi-coronavirus-NEW-JERSEY-GENERIC-img.jpg?w=1600\" style = \"float:middle; width:400px; height:250px;\"/>\n",
    "\n",
    "### Objective\n",
    "Out of all of the states in the United States New Jersey is the most densely populated state and during the COVID-19 pandemic New Jersey was hit hard due to its high population density, proximity to two major cities in Philidelphia and New York City, and the amount of travel that happens out of its major airport. New Jersey struggled during the pandemic as a whole and certain communities in New Jersey struggled more than others. My mother, who is a hispanic woman, was on the front lines during the COVID-19 pandemic as a nurse in Newark New Jersey which had record rates of COVID-19. Newark New Jersey also contains a large minority population which struggled to deal with the pandemic both physically and mentally. I have conducted an analysis on multiple mental health variables that were recorded during the pandemic and i have attempted to find some discrepencies in the mental health of hispanics in New Jersey during the pandemic and the mental health of non hispanics. Along with this I attempted to obtain information on how mental health was affected during by the changing of seasons and how mental health affected the likelihood of people recieving vaccines. \n",
    "\n",
    "### Data Source \n",
    "I obtained the data from the census website which administered multiple surveys through out the COVID-19 pandemic. I have used the CSV files from week 33 (https://www2.census.gov/programs-surveys/demo/datasets/hhp/2021/wk33/HPS_Week33_PUF_CSV.zip) and week 21 (https://www2.census.gov/programs-surveys/demo/datasets/hhp/2020/wk21/HPS_Week21_PUF_CSV.zip) when the surveys were administered. I did these two weeks for the purpose of analyzing responses from two different seasons in the year, Winter and Summer. Along with this the Summer data set allows for me to see answers after the vaccine was introduced to the public. The data was manipulated in excel in order to obtain data only from respondents in New Jersey. "
   ]
  },
  {
   "cell_type": "markdown",
   "id": "a10720b4",
   "metadata": {},
   "source": [
    "<img src=\"https://njbmagazine.com/wp-content/uploads/2020/03/NJHA-ZipCodes-NewarkSkyline-775x500.jpg\" style = \"float:right; width:400px; height:250px;\"/>\n",
    "\n",
    "### Questions to Answer for This Analysis \n",
    "\n",
    "#### 1)Was Mental Health during the pandemic worst during the Winter rather than the Summer \n",
    "\n",
    "#### 2)Did the pandemic disproportionally affect the mental health of hispanics in New Jersey \n",
    "\n",
    "#### 3)Did being hispanic have any sort of correlation with the responses given for mental health ratings \n",
    "\n",
    "#### 4)Did mental health have a statistically significant affect on recieving a vaccine or not "
   ]
  },
  {
   "cell_type": "markdown",
   "id": "3ca164eb",
   "metadata": {},
   "source": [
    "## Part 1: Preparing the Data for Analysis"
   ]
  },
  {
   "cell_type": "markdown",
   "id": "958dcbfa",
   "metadata": {},
   "source": [
    "### A) Uploading the data sets"
   ]
  },
  {
   "cell_type": "code",
   "execution_count": 1,
   "id": "437f4c18",
   "metadata": {},
   "outputs": [],
   "source": [
    "import pandas as pd\n",
    "import numpy as np"
   ]
  },
  {
   "cell_type": "code",
   "execution_count": 2,
   "id": "f9c5d80a",
   "metadata": {},
   "outputs": [],
   "source": [
    "#First need to upload the winter dataset into a dataframe\n",
    "\n",
    "df_1 = pd.read_csv('pulse2020_puf_21.csv')"
   ]
  },
  {
   "cell_type": "code",
   "execution_count": 3,
   "id": "b21d47c5",
   "metadata": {},
   "outputs": [],
   "source": [
    "#Then need to only extract values for New Jersey \n",
    "\n",
    "df_NJ = df_1[df_1['EST_ST'] == 34]"
   ]
  },
  {
   "cell_type": "code",
   "execution_count": 4,
   "id": "90fae29c",
   "metadata": {},
   "outputs": [],
   "source": [
    "#Replace the non answers with the panda value nan to let python know the values are empty\n",
    "\n",
    "df_NJ = df_NJ.replace(to_replace = -99, value = np.nan)"
   ]
  },
  {
   "cell_type": "code",
   "execution_count": 5,
   "id": "0084bbfc",
   "metadata": {},
   "outputs": [],
   "source": [
    "#Replace the non answers with the panda value nan to let python know the values are empty\n",
    "\n",
    "df_NJ = df_NJ.replace(to_replace = -88, value = np.nan)"
   ]
  },
  {
   "cell_type": "code",
   "execution_count": 6,
   "id": "352f6145",
   "metadata": {},
   "outputs": [],
   "source": [
    "#Then upload the completed dataset in to a winter data set in order to distinguish between the two\n",
    "\n",
    "dfWinter = df_NJ"
   ]
  },
  {
   "cell_type": "code",
   "execution_count": 7,
   "id": "63dc8630",
   "metadata": {},
   "outputs": [
    {
     "data": {
      "text/html": [
       "<div>\n",
       "<style scoped>\n",
       "    .dataframe tbody tr th:only-of-type {\n",
       "        vertical-align: middle;\n",
       "    }\n",
       "\n",
       "    .dataframe tbody tr th {\n",
       "        vertical-align: top;\n",
       "    }\n",
       "\n",
       "    .dataframe thead th {\n",
       "        text-align: right;\n",
       "    }\n",
       "</style>\n",
       "<table border=\"1\" class=\"dataframe\">\n",
       "  <thead>\n",
       "    <tr style=\"text-align: right;\">\n",
       "      <th></th>\n",
       "      <th>SCRAM</th>\n",
       "      <th>WEEK</th>\n",
       "      <th>EST_ST</th>\n",
       "      <th>EST_MSA</th>\n",
       "      <th>REGION</th>\n",
       "      <th>HWEIGHT</th>\n",
       "      <th>PWEIGHT</th>\n",
       "      <th>TBIRTH_YEAR</th>\n",
       "      <th>ABIRTH_YEAR</th>\n",
       "      <th>EGENDER</th>\n",
       "      <th>...</th>\n",
       "      <th>PSWHYCHG1</th>\n",
       "      <th>PSWHYCHG2</th>\n",
       "      <th>PSWHYCHG3</th>\n",
       "      <th>PSWHYCHG4</th>\n",
       "      <th>PSWHYCHG5</th>\n",
       "      <th>PSWHYCHG6</th>\n",
       "      <th>PSWHYCHG7</th>\n",
       "      <th>PSWHYCHG8</th>\n",
       "      <th>PSWHYCHG9</th>\n",
       "      <th>INCOME</th>\n",
       "    </tr>\n",
       "  </thead>\n",
       "  <tbody>\n",
       "    <tr>\n",
       "      <th>31</th>\n",
       "      <td>V210000005S54050543500112</td>\n",
       "      <td>21</td>\n",
       "      <td>34</td>\n",
       "      <td>35620.0</td>\n",
       "      <td>1</td>\n",
       "      <td>439.340633</td>\n",
       "      <td>1210.526515</td>\n",
       "      <td>1956</td>\n",
       "      <td>2</td>\n",
       "      <td>2</td>\n",
       "      <td>...</td>\n",
       "      <td>NaN</td>\n",
       "      <td>NaN</td>\n",
       "      <td>NaN</td>\n",
       "      <td>NaN</td>\n",
       "      <td>NaN</td>\n",
       "      <td>NaN</td>\n",
       "      <td>NaN</td>\n",
       "      <td>NaN</td>\n",
       "      <td>NaN</td>\n",
       "      <td>7.0</td>\n",
       "    </tr>\n",
       "    <tr>\n",
       "      <th>245</th>\n",
       "      <td>V210020005S10250807000122</td>\n",
       "      <td>21</td>\n",
       "      <td>34</td>\n",
       "      <td>37980.0</td>\n",
       "      <td>1</td>\n",
       "      <td>2340.389813</td>\n",
       "      <td>4299.024059</td>\n",
       "      <td>1977</td>\n",
       "      <td>2</td>\n",
       "      <td>1</td>\n",
       "      <td>...</td>\n",
       "      <td>NaN</td>\n",
       "      <td>NaN</td>\n",
       "      <td>NaN</td>\n",
       "      <td>NaN</td>\n",
       "      <td>NaN</td>\n",
       "      <td>NaN</td>\n",
       "      <td>NaN</td>\n",
       "      <td>1.0</td>\n",
       "      <td>NaN</td>\n",
       "      <td>1.0</td>\n",
       "    </tr>\n",
       "    <tr>\n",
       "      <th>450</th>\n",
       "      <td>V210030625M16360353500112</td>\n",
       "      <td>21</td>\n",
       "      <td>34</td>\n",
       "      <td>35620.0</td>\n",
       "      <td>1</td>\n",
       "      <td>3158.536003</td>\n",
       "      <td>11603.727029</td>\n",
       "      <td>1971</td>\n",
       "      <td>2</td>\n",
       "      <td>1</td>\n",
       "      <td>...</td>\n",
       "      <td>NaN</td>\n",
       "      <td>NaN</td>\n",
       "      <td>NaN</td>\n",
       "      <td>1.0</td>\n",
       "      <td>NaN</td>\n",
       "      <td>1.0</td>\n",
       "      <td>NaN</td>\n",
       "      <td>NaN</td>\n",
       "      <td>NaN</td>\n",
       "      <td>6.0</td>\n",
       "    </tr>\n",
       "    <tr>\n",
       "      <th>453</th>\n",
       "      <td>V210030625M30340561100122</td>\n",
       "      <td>21</td>\n",
       "      <td>34</td>\n",
       "      <td>35620.0</td>\n",
       "      <td>1</td>\n",
       "      <td>2360.860481</td>\n",
       "      <td>2168.313148</td>\n",
       "      <td>1975</td>\n",
       "      <td>2</td>\n",
       "      <td>2</td>\n",
       "      <td>...</td>\n",
       "      <td>NaN</td>\n",
       "      <td>NaN</td>\n",
       "      <td>NaN</td>\n",
       "      <td>NaN</td>\n",
       "      <td>NaN</td>\n",
       "      <td>NaN</td>\n",
       "      <td>NaN</td>\n",
       "      <td>NaN</td>\n",
       "      <td>NaN</td>\n",
       "      <td>NaN</td>\n",
       "    </tr>\n",
       "    <tr>\n",
       "      <th>454</th>\n",
       "      <td>V210030625M30340818100112</td>\n",
       "      <td>21</td>\n",
       "      <td>34</td>\n",
       "      <td>35620.0</td>\n",
       "      <td>1</td>\n",
       "      <td>1446.669318</td>\n",
       "      <td>5314.726777</td>\n",
       "      <td>1970</td>\n",
       "      <td>2</td>\n",
       "      <td>1</td>\n",
       "      <td>...</td>\n",
       "      <td>NaN</td>\n",
       "      <td>NaN</td>\n",
       "      <td>NaN</td>\n",
       "      <td>NaN</td>\n",
       "      <td>NaN</td>\n",
       "      <td>NaN</td>\n",
       "      <td>NaN</td>\n",
       "      <td>NaN</td>\n",
       "      <td>NaN</td>\n",
       "      <td>4.0</td>\n",
       "    </tr>\n",
       "  </tbody>\n",
       "</table>\n",
       "<p>5 rows × 188 columns</p>\n",
       "</div>"
      ],
      "text/plain": [
       "                         SCRAM  WEEK  EST_ST  EST_MSA  REGION      HWEIGHT  \\\n",
       "31   V210000005S54050543500112    21      34  35620.0       1   439.340633   \n",
       "245  V210020005S10250807000122    21      34  37980.0       1  2340.389813   \n",
       "450  V210030625M16360353500112    21      34  35620.0       1  3158.536003   \n",
       "453  V210030625M30340561100122    21      34  35620.0       1  2360.860481   \n",
       "454  V210030625M30340818100112    21      34  35620.0       1  1446.669318   \n",
       "\n",
       "          PWEIGHT  TBIRTH_YEAR  ABIRTH_YEAR  EGENDER  ...  PSWHYCHG1  \\\n",
       "31    1210.526515         1956            2        2  ...        NaN   \n",
       "245   4299.024059         1977            2        1  ...        NaN   \n",
       "450  11603.727029         1971            2        1  ...        NaN   \n",
       "453   2168.313148         1975            2        2  ...        NaN   \n",
       "454   5314.726777         1970            2        1  ...        NaN   \n",
       "\n",
       "     PSWHYCHG2  PSWHYCHG3  PSWHYCHG4  PSWHYCHG5  PSWHYCHG6  PSWHYCHG7  \\\n",
       "31         NaN        NaN        NaN        NaN        NaN        NaN   \n",
       "245        NaN        NaN        NaN        NaN        NaN        NaN   \n",
       "450        NaN        NaN        1.0        NaN        1.0        NaN   \n",
       "453        NaN        NaN        NaN        NaN        NaN        NaN   \n",
       "454        NaN        NaN        NaN        NaN        NaN        NaN   \n",
       "\n",
       "     PSWHYCHG8  PSWHYCHG9  INCOME  \n",
       "31         NaN        NaN     7.0  \n",
       "245        1.0        NaN     1.0  \n",
       "450        NaN        NaN     6.0  \n",
       "453        NaN        NaN     NaN  \n",
       "454        NaN        NaN     4.0  \n",
       "\n",
       "[5 rows x 188 columns]"
      ]
     },
     "execution_count": 7,
     "metadata": {},
     "output_type": "execute_result"
    }
   ],
   "source": [
    "#Now I will check the first five rows in order to see that the data loaded correctly \n",
    "\n",
    "dfWinter.head()"
   ]
  },
  {
   "cell_type": "code",
   "execution_count": 8,
   "id": "ff83b35b",
   "metadata": {},
   "outputs": [],
   "source": [
    "#First need to upload the Summer dataset into a dataframe\n",
    "\n",
    "df_2 = pd.read_csv('pulse2021_puf_33.csv')"
   ]
  },
  {
   "cell_type": "code",
   "execution_count": 9,
   "id": "d209ddb7",
   "metadata": {},
   "outputs": [],
   "source": [
    "#Then need to only extract values for New Jersey \n",
    "\n",
    "df_NJ_1 = df_2[df_2['EST_ST'] == 34]"
   ]
  },
  {
   "cell_type": "code",
   "execution_count": 10,
   "id": "368d9c4a",
   "metadata": {},
   "outputs": [],
   "source": [
    "#Replace the non answers with the panda value nan to let python know the values are empty\n",
    "\n",
    "df_NJ_1 = df_NJ_1.replace(to_replace = -99, value = np.nan)"
   ]
  },
  {
   "cell_type": "code",
   "execution_count": 11,
   "id": "6694b180",
   "metadata": {},
   "outputs": [],
   "source": [
    "#Replace the non answers with the panda value nan to let python know the values are empty\n",
    "\n",
    "df_NJ_1 = df_NJ_1.replace(to_replace = -88, value = np.nan)"
   ]
  },
  {
   "cell_type": "code",
   "execution_count": 12,
   "id": "9f8b73d3",
   "metadata": {},
   "outputs": [],
   "source": [
    "#Then upload the completed dataset in to a summer data frame in order to distinguish between the two\n",
    "\n",
    "dfSummer = df_NJ_1"
   ]
  },
  {
   "cell_type": "code",
   "execution_count": 13,
   "id": "cbf56d56",
   "metadata": {},
   "outputs": [
    {
     "data": {
      "text/html": [
       "<div>\n",
       "<style scoped>\n",
       "    .dataframe tbody tr th:only-of-type {\n",
       "        vertical-align: middle;\n",
       "    }\n",
       "\n",
       "    .dataframe tbody tr th {\n",
       "        vertical-align: top;\n",
       "    }\n",
       "\n",
       "    .dataframe thead th {\n",
       "        text-align: right;\n",
       "    }\n",
       "</style>\n",
       "<table border=\"1\" class=\"dataframe\">\n",
       "  <thead>\n",
       "    <tr style=\"text-align: right;\">\n",
       "      <th></th>\n",
       "      <th>SCRAM</th>\n",
       "      <th>WEEK</th>\n",
       "      <th>EST_ST</th>\n",
       "      <th>EST_MSA</th>\n",
       "      <th>REGION</th>\n",
       "      <th>HWEIGHT</th>\n",
       "      <th>PWEIGHT</th>\n",
       "      <th>TBIRTH_YEAR</th>\n",
       "      <th>ABIRTH_YEAR</th>\n",
       "      <th>EGENDER</th>\n",
       "      <th>...</th>\n",
       "      <th>PSWHYCHG1</th>\n",
       "      <th>PSWHYCHG2</th>\n",
       "      <th>PSWHYCHG3</th>\n",
       "      <th>PSWHYCHG4</th>\n",
       "      <th>PSWHYCHG5</th>\n",
       "      <th>PSWHYCHG6</th>\n",
       "      <th>PSWHYCHG7</th>\n",
       "      <th>PSWHYCHG8</th>\n",
       "      <th>PSWHYCHG9</th>\n",
       "      <th>INCOME</th>\n",
       "    </tr>\n",
       "  </thead>\n",
       "  <tbody>\n",
       "    <tr>\n",
       "      <th>325</th>\n",
       "      <td>V330030004S12340979100122</td>\n",
       "      <td>33</td>\n",
       "      <td>34</td>\n",
       "      <td>NaN</td>\n",
       "      <td>1</td>\n",
       "      <td>1160.764363</td>\n",
       "      <td>2120.060997</td>\n",
       "      <td>1944</td>\n",
       "      <td>2</td>\n",
       "      <td>1</td>\n",
       "      <td>...</td>\n",
       "      <td>NaN</td>\n",
       "      <td>NaN</td>\n",
       "      <td>NaN</td>\n",
       "      <td>NaN</td>\n",
       "      <td>NaN</td>\n",
       "      <td>NaN</td>\n",
       "      <td>NaN</td>\n",
       "      <td>NaN</td>\n",
       "      <td>NaN</td>\n",
       "      <td>5.0</td>\n",
       "    </tr>\n",
       "    <tr>\n",
       "      <th>411</th>\n",
       "      <td>V330030625M32340164600122</td>\n",
       "      <td>33</td>\n",
       "      <td>34</td>\n",
       "      <td>35620.0</td>\n",
       "      <td>1</td>\n",
       "      <td>2061.529984</td>\n",
       "      <td>3765.251116</td>\n",
       "      <td>1948</td>\n",
       "      <td>2</td>\n",
       "      <td>1</td>\n",
       "      <td>...</td>\n",
       "      <td>NaN</td>\n",
       "      <td>NaN</td>\n",
       "      <td>NaN</td>\n",
       "      <td>NaN</td>\n",
       "      <td>NaN</td>\n",
       "      <td>NaN</td>\n",
       "      <td>NaN</td>\n",
       "      <td>NaN</td>\n",
       "      <td>NaN</td>\n",
       "      <td>NaN</td>\n",
       "    </tr>\n",
       "    <tr>\n",
       "      <th>412</th>\n",
       "      <td>V330030625M32340740500122</td>\n",
       "      <td>33</td>\n",
       "      <td>34</td>\n",
       "      <td>35620.0</td>\n",
       "      <td>1</td>\n",
       "      <td>6217.063812</td>\n",
       "      <td>11355.064750</td>\n",
       "      <td>1967</td>\n",
       "      <td>2</td>\n",
       "      <td>2</td>\n",
       "      <td>...</td>\n",
       "      <td>NaN</td>\n",
       "      <td>NaN</td>\n",
       "      <td>NaN</td>\n",
       "      <td>1.0</td>\n",
       "      <td>NaN</td>\n",
       "      <td>NaN</td>\n",
       "      <td>NaN</td>\n",
       "      <td>NaN</td>\n",
       "      <td>NaN</td>\n",
       "      <td>5.0</td>\n",
       "    </tr>\n",
       "    <tr>\n",
       "      <th>420</th>\n",
       "      <td>V330030625M93340997210122</td>\n",
       "      <td>33</td>\n",
       "      <td>34</td>\n",
       "      <td>35620.0</td>\n",
       "      <td>1</td>\n",
       "      <td>1124.104565</td>\n",
       "      <td>2053.104247</td>\n",
       "      <td>1957</td>\n",
       "      <td>2</td>\n",
       "      <td>2</td>\n",
       "      <td>...</td>\n",
       "      <td>NaN</td>\n",
       "      <td>NaN</td>\n",
       "      <td>NaN</td>\n",
       "      <td>NaN</td>\n",
       "      <td>NaN</td>\n",
       "      <td>NaN</td>\n",
       "      <td>NaN</td>\n",
       "      <td>NaN</td>\n",
       "      <td>NaN</td>\n",
       "      <td>6.0</td>\n",
       "    </tr>\n",
       "    <tr>\n",
       "      <th>428</th>\n",
       "      <td>V330030987M33340622400112</td>\n",
       "      <td>33</td>\n",
       "      <td>34</td>\n",
       "      <td>37980.0</td>\n",
       "      <td>1</td>\n",
       "      <td>690.408220</td>\n",
       "      <td>1891.478906</td>\n",
       "      <td>1964</td>\n",
       "      <td>2</td>\n",
       "      <td>2</td>\n",
       "      <td>...</td>\n",
       "      <td>NaN</td>\n",
       "      <td>NaN</td>\n",
       "      <td>NaN</td>\n",
       "      <td>1.0</td>\n",
       "      <td>1.0</td>\n",
       "      <td>NaN</td>\n",
       "      <td>NaN</td>\n",
       "      <td>NaN</td>\n",
       "      <td>NaN</td>\n",
       "      <td>2.0</td>\n",
       "    </tr>\n",
       "  </tbody>\n",
       "</table>\n",
       "<p>5 rows × 239 columns</p>\n",
       "</div>"
      ],
      "text/plain": [
       "                         SCRAM  WEEK  EST_ST  EST_MSA  REGION      HWEIGHT  \\\n",
       "325  V330030004S12340979100122    33      34      NaN       1  1160.764363   \n",
       "411  V330030625M32340164600122    33      34  35620.0       1  2061.529984   \n",
       "412  V330030625M32340740500122    33      34  35620.0       1  6217.063812   \n",
       "420  V330030625M93340997210122    33      34  35620.0       1  1124.104565   \n",
       "428  V330030987M33340622400112    33      34  37980.0       1   690.408220   \n",
       "\n",
       "          PWEIGHT  TBIRTH_YEAR  ABIRTH_YEAR  EGENDER  ...  PSWHYCHG1  \\\n",
       "325   2120.060997         1944            2        1  ...        NaN   \n",
       "411   3765.251116         1948            2        1  ...        NaN   \n",
       "412  11355.064750         1967            2        2  ...        NaN   \n",
       "420   2053.104247         1957            2        2  ...        NaN   \n",
       "428   1891.478906         1964            2        2  ...        NaN   \n",
       "\n",
       "     PSWHYCHG2  PSWHYCHG3  PSWHYCHG4  PSWHYCHG5  PSWHYCHG6  PSWHYCHG7  \\\n",
       "325        NaN        NaN        NaN        NaN        NaN        NaN   \n",
       "411        NaN        NaN        NaN        NaN        NaN        NaN   \n",
       "412        NaN        NaN        1.0        NaN        NaN        NaN   \n",
       "420        NaN        NaN        NaN        NaN        NaN        NaN   \n",
       "428        NaN        NaN        1.0        1.0        NaN        NaN   \n",
       "\n",
       "     PSWHYCHG8  PSWHYCHG9  INCOME  \n",
       "325        NaN        NaN     5.0  \n",
       "411        NaN        NaN     NaN  \n",
       "412        NaN        NaN     5.0  \n",
       "420        NaN        NaN     6.0  \n",
       "428        NaN        NaN     2.0  \n",
       "\n",
       "[5 rows x 239 columns]"
      ]
     },
     "execution_count": 13,
     "metadata": {},
     "output_type": "execute_result"
    }
   ],
   "source": [
    "#Check to see if the summer dataset loaded correctly \n",
    "\n",
    "dfSummer.head()"
   ]
  },
  {
   "cell_type": "markdown",
   "id": "ef6a9c7a",
   "metadata": {},
   "source": [
    "### B) Deriving Summary Statistics from the Data"
   ]
  },
  {
   "cell_type": "code",
   "execution_count": 14,
   "id": "f3609e55",
   "metadata": {},
   "outputs": [
    {
     "data": {
      "text/html": [
       "<div>\n",
       "<style scoped>\n",
       "    .dataframe tbody tr th:only-of-type {\n",
       "        vertical-align: middle;\n",
       "    }\n",
       "\n",
       "    .dataframe tbody tr th {\n",
       "        vertical-align: top;\n",
       "    }\n",
       "\n",
       "    .dataframe thead th {\n",
       "        text-align: right;\n",
       "    }\n",
       "</style>\n",
       "<table border=\"1\" class=\"dataframe\">\n",
       "  <thead>\n",
       "    <tr style=\"text-align: right;\">\n",
       "      <th></th>\n",
       "      <th>WEEK</th>\n",
       "      <th>EST_ST</th>\n",
       "      <th>EST_MSA</th>\n",
       "      <th>REGION</th>\n",
       "      <th>HWEIGHT</th>\n",
       "      <th>PWEIGHT</th>\n",
       "      <th>TBIRTH_YEAR</th>\n",
       "      <th>ABIRTH_YEAR</th>\n",
       "      <th>EGENDER</th>\n",
       "      <th>AGENDER</th>\n",
       "      <th>...</th>\n",
       "      <th>PSWHYCHG1</th>\n",
       "      <th>PSWHYCHG2</th>\n",
       "      <th>PSWHYCHG3</th>\n",
       "      <th>PSWHYCHG4</th>\n",
       "      <th>PSWHYCHG5</th>\n",
       "      <th>PSWHYCHG6</th>\n",
       "      <th>PSWHYCHG7</th>\n",
       "      <th>PSWHYCHG8</th>\n",
       "      <th>PSWHYCHG9</th>\n",
       "      <th>INCOME</th>\n",
       "    </tr>\n",
       "  </thead>\n",
       "  <tbody>\n",
       "    <tr>\n",
       "      <th>count</th>\n",
       "      <td>1286.0</td>\n",
       "      <td>1286.0</td>\n",
       "      <td>1140.000000</td>\n",
       "      <td>1286.0</td>\n",
       "      <td>1286.000000</td>\n",
       "      <td>1286.000000</td>\n",
       "      <td>1286.000000</td>\n",
       "      <td>1286.000000</td>\n",
       "      <td>1286.000000</td>\n",
       "      <td>1286.000000</td>\n",
       "      <td>...</td>\n",
       "      <td>63.0</td>\n",
       "      <td>4.0</td>\n",
       "      <td>9.0</td>\n",
       "      <td>121.0</td>\n",
       "      <td>15.0</td>\n",
       "      <td>38.0</td>\n",
       "      <td>42.0</td>\n",
       "      <td>49.0</td>\n",
       "      <td>15.0</td>\n",
       "      <td>970.000000</td>\n",
       "    </tr>\n",
       "    <tr>\n",
       "      <th>mean</th>\n",
       "      <td>21.0</td>\n",
       "      <td>34.0</td>\n",
       "      <td>36226.561404</td>\n",
       "      <td>1.0</td>\n",
       "      <td>2526.879471</td>\n",
       "      <td>5269.690513</td>\n",
       "      <td>1967.551322</td>\n",
       "      <td>1.989891</td>\n",
       "      <td>1.583204</td>\n",
       "      <td>1.993002</td>\n",
       "      <td>...</td>\n",
       "      <td>1.0</td>\n",
       "      <td>1.0</td>\n",
       "      <td>1.0</td>\n",
       "      <td>1.0</td>\n",
       "      <td>1.0</td>\n",
       "      <td>1.0</td>\n",
       "      <td>1.0</td>\n",
       "      <td>1.0</td>\n",
       "      <td>1.0</td>\n",
       "      <td>4.995876</td>\n",
       "    </tr>\n",
       "    <tr>\n",
       "      <th>std</th>\n",
       "      <td>0.0</td>\n",
       "      <td>0.0</td>\n",
       "      <td>1031.747038</td>\n",
       "      <td>0.0</td>\n",
       "      <td>2418.109868</td>\n",
       "      <td>6043.461019</td>\n",
       "      <td>15.464786</td>\n",
       "      <td>0.100072</td>\n",
       "      <td>0.493220</td>\n",
       "      <td>0.083396</td>\n",
       "      <td>...</td>\n",
       "      <td>0.0</td>\n",
       "      <td>0.0</td>\n",
       "      <td>0.0</td>\n",
       "      <td>0.0</td>\n",
       "      <td>0.0</td>\n",
       "      <td>0.0</td>\n",
       "      <td>0.0</td>\n",
       "      <td>0.0</td>\n",
       "      <td>0.0</td>\n",
       "      <td>2.071972</td>\n",
       "    </tr>\n",
       "    <tr>\n",
       "      <th>min</th>\n",
       "      <td>21.0</td>\n",
       "      <td>34.0</td>\n",
       "      <td>35620.000000</td>\n",
       "      <td>1.0</td>\n",
       "      <td>109.180123</td>\n",
       "      <td>120.259380</td>\n",
       "      <td>1932.000000</td>\n",
       "      <td>1.000000</td>\n",
       "      <td>1.000000</td>\n",
       "      <td>1.000000</td>\n",
       "      <td>...</td>\n",
       "      <td>1.0</td>\n",
       "      <td>1.0</td>\n",
       "      <td>1.0</td>\n",
       "      <td>1.0</td>\n",
       "      <td>1.0</td>\n",
       "      <td>1.0</td>\n",
       "      <td>1.0</td>\n",
       "      <td>1.0</td>\n",
       "      <td>1.0</td>\n",
       "      <td>1.000000</td>\n",
       "    </tr>\n",
       "    <tr>\n",
       "      <th>25%</th>\n",
       "      <td>21.0</td>\n",
       "      <td>34.0</td>\n",
       "      <td>35620.000000</td>\n",
       "      <td>1.0</td>\n",
       "      <td>1136.837825</td>\n",
       "      <td>1899.408286</td>\n",
       "      <td>1956.000000</td>\n",
       "      <td>2.000000</td>\n",
       "      <td>1.000000</td>\n",
       "      <td>2.000000</td>\n",
       "      <td>...</td>\n",
       "      <td>1.0</td>\n",
       "      <td>1.0</td>\n",
       "      <td>1.0</td>\n",
       "      <td>1.0</td>\n",
       "      <td>1.0</td>\n",
       "      <td>1.0</td>\n",
       "      <td>1.0</td>\n",
       "      <td>1.0</td>\n",
       "      <td>1.0</td>\n",
       "      <td>4.000000</td>\n",
       "    </tr>\n",
       "    <tr>\n",
       "      <th>50%</th>\n",
       "      <td>21.0</td>\n",
       "      <td>34.0</td>\n",
       "      <td>35620.000000</td>\n",
       "      <td>1.0</td>\n",
       "      <td>1710.018194</td>\n",
       "      <td>3294.841248</td>\n",
       "      <td>1966.000000</td>\n",
       "      <td>2.000000</td>\n",
       "      <td>2.000000</td>\n",
       "      <td>2.000000</td>\n",
       "      <td>...</td>\n",
       "      <td>1.0</td>\n",
       "      <td>1.0</td>\n",
       "      <td>1.0</td>\n",
       "      <td>1.0</td>\n",
       "      <td>1.0</td>\n",
       "      <td>1.0</td>\n",
       "      <td>1.0</td>\n",
       "      <td>1.0</td>\n",
       "      <td>1.0</td>\n",
       "      <td>5.000000</td>\n",
       "    </tr>\n",
       "    <tr>\n",
       "      <th>75%</th>\n",
       "      <td>21.0</td>\n",
       "      <td>34.0</td>\n",
       "      <td>37980.000000</td>\n",
       "      <td>1.0</td>\n",
       "      <td>2768.745730</td>\n",
       "      <td>6027.568780</td>\n",
       "      <td>1980.000000</td>\n",
       "      <td>2.000000</td>\n",
       "      <td>2.000000</td>\n",
       "      <td>2.000000</td>\n",
       "      <td>...</td>\n",
       "      <td>1.0</td>\n",
       "      <td>1.0</td>\n",
       "      <td>1.0</td>\n",
       "      <td>1.0</td>\n",
       "      <td>1.0</td>\n",
       "      <td>1.0</td>\n",
       "      <td>1.0</td>\n",
       "      <td>1.0</td>\n",
       "      <td>1.0</td>\n",
       "      <td>7.000000</td>\n",
       "    </tr>\n",
       "    <tr>\n",
       "      <th>max</th>\n",
       "      <td>21.0</td>\n",
       "      <td>34.0</td>\n",
       "      <td>37980.000000</td>\n",
       "      <td>1.0</td>\n",
       "      <td>21591.731412</td>\n",
       "      <td>64275.030326</td>\n",
       "      <td>2002.000000</td>\n",
       "      <td>2.000000</td>\n",
       "      <td>2.000000</td>\n",
       "      <td>2.000000</td>\n",
       "      <td>...</td>\n",
       "      <td>1.0</td>\n",
       "      <td>1.0</td>\n",
       "      <td>1.0</td>\n",
       "      <td>1.0</td>\n",
       "      <td>1.0</td>\n",
       "      <td>1.0</td>\n",
       "      <td>1.0</td>\n",
       "      <td>1.0</td>\n",
       "      <td>1.0</td>\n",
       "      <td>8.000000</td>\n",
       "    </tr>\n",
       "  </tbody>\n",
       "</table>\n",
       "<p>8 rows × 187 columns</p>\n",
       "</div>"
      ],
      "text/plain": [
       "         WEEK  EST_ST       EST_MSA  REGION       HWEIGHT       PWEIGHT  \\\n",
       "count  1286.0  1286.0   1140.000000  1286.0   1286.000000   1286.000000   \n",
       "mean     21.0    34.0  36226.561404     1.0   2526.879471   5269.690513   \n",
       "std       0.0     0.0   1031.747038     0.0   2418.109868   6043.461019   \n",
       "min      21.0    34.0  35620.000000     1.0    109.180123    120.259380   \n",
       "25%      21.0    34.0  35620.000000     1.0   1136.837825   1899.408286   \n",
       "50%      21.0    34.0  35620.000000     1.0   1710.018194   3294.841248   \n",
       "75%      21.0    34.0  37980.000000     1.0   2768.745730   6027.568780   \n",
       "max      21.0    34.0  37980.000000     1.0  21591.731412  64275.030326   \n",
       "\n",
       "       TBIRTH_YEAR  ABIRTH_YEAR      EGENDER      AGENDER  ...  PSWHYCHG1  \\\n",
       "count  1286.000000  1286.000000  1286.000000  1286.000000  ...       63.0   \n",
       "mean   1967.551322     1.989891     1.583204     1.993002  ...        1.0   \n",
       "std      15.464786     0.100072     0.493220     0.083396  ...        0.0   \n",
       "min    1932.000000     1.000000     1.000000     1.000000  ...        1.0   \n",
       "25%    1956.000000     2.000000     1.000000     2.000000  ...        1.0   \n",
       "50%    1966.000000     2.000000     2.000000     2.000000  ...        1.0   \n",
       "75%    1980.000000     2.000000     2.000000     2.000000  ...        1.0   \n",
       "max    2002.000000     2.000000     2.000000     2.000000  ...        1.0   \n",
       "\n",
       "       PSWHYCHG2  PSWHYCHG3  PSWHYCHG4  PSWHYCHG5  PSWHYCHG6  PSWHYCHG7  \\\n",
       "count        4.0        9.0      121.0       15.0       38.0       42.0   \n",
       "mean         1.0        1.0        1.0        1.0        1.0        1.0   \n",
       "std          0.0        0.0        0.0        0.0        0.0        0.0   \n",
       "min          1.0        1.0        1.0        1.0        1.0        1.0   \n",
       "25%          1.0        1.0        1.0        1.0        1.0        1.0   \n",
       "50%          1.0        1.0        1.0        1.0        1.0        1.0   \n",
       "75%          1.0        1.0        1.0        1.0        1.0        1.0   \n",
       "max          1.0        1.0        1.0        1.0        1.0        1.0   \n",
       "\n",
       "       PSWHYCHG8  PSWHYCHG9      INCOME  \n",
       "count       49.0       15.0  970.000000  \n",
       "mean         1.0        1.0    4.995876  \n",
       "std          0.0        0.0    2.071972  \n",
       "min          1.0        1.0    1.000000  \n",
       "25%          1.0        1.0    4.000000  \n",
       "50%          1.0        1.0    5.000000  \n",
       "75%          1.0        1.0    7.000000  \n",
       "max          1.0        1.0    8.000000  \n",
       "\n",
       "[8 rows x 187 columns]"
      ]
     },
     "execution_count": 14,
     "metadata": {},
     "output_type": "execute_result"
    }
   ],
   "source": [
    "#Get summary statistics for Winter\n",
    "\n",
    "dfWinter.describe()"
   ]
  },
  {
   "cell_type": "code",
   "execution_count": 15,
   "id": "7987c440",
   "metadata": {},
   "outputs": [
    {
     "data": {
      "text/html": [
       "<div>\n",
       "<style scoped>\n",
       "    .dataframe tbody tr th:only-of-type {\n",
       "        vertical-align: middle;\n",
       "    }\n",
       "\n",
       "    .dataframe tbody tr th {\n",
       "        vertical-align: top;\n",
       "    }\n",
       "\n",
       "    .dataframe thead th {\n",
       "        text-align: right;\n",
       "    }\n",
       "</style>\n",
       "<table border=\"1\" class=\"dataframe\">\n",
       "  <thead>\n",
       "    <tr style=\"text-align: right;\">\n",
       "      <th></th>\n",
       "      <th>WEEK</th>\n",
       "      <th>EST_ST</th>\n",
       "      <th>EST_MSA</th>\n",
       "      <th>REGION</th>\n",
       "      <th>HWEIGHT</th>\n",
       "      <th>PWEIGHT</th>\n",
       "      <th>TBIRTH_YEAR</th>\n",
       "      <th>ABIRTH_YEAR</th>\n",
       "      <th>EGENDER</th>\n",
       "      <th>AGENDER</th>\n",
       "      <th>...</th>\n",
       "      <th>PSWHYCHG1</th>\n",
       "      <th>PSWHYCHG2</th>\n",
       "      <th>PSWHYCHG3</th>\n",
       "      <th>PSWHYCHG4</th>\n",
       "      <th>PSWHYCHG5</th>\n",
       "      <th>PSWHYCHG6</th>\n",
       "      <th>PSWHYCHG7</th>\n",
       "      <th>PSWHYCHG8</th>\n",
       "      <th>PSWHYCHG9</th>\n",
       "      <th>INCOME</th>\n",
       "    </tr>\n",
       "  </thead>\n",
       "  <tbody>\n",
       "    <tr>\n",
       "      <th>count</th>\n",
       "      <td>1320.0</td>\n",
       "      <td>1320.0</td>\n",
       "      <td>1181.000000</td>\n",
       "      <td>1320.0</td>\n",
       "      <td>1320.000000</td>\n",
       "      <td>1320.000000</td>\n",
       "      <td>1320.000000</td>\n",
       "      <td>1320.000000</td>\n",
       "      <td>1320.000000</td>\n",
       "      <td>1320.000000</td>\n",
       "      <td>...</td>\n",
       "      <td>17.0</td>\n",
       "      <td>4.0</td>\n",
       "      <td>4.0</td>\n",
       "      <td>60.0</td>\n",
       "      <td>19.0</td>\n",
       "      <td>20.0</td>\n",
       "      <td>15.0</td>\n",
       "      <td>15.0</td>\n",
       "      <td>9.0</td>\n",
       "      <td>887.000000</td>\n",
       "    </tr>\n",
       "    <tr>\n",
       "      <th>mean</th>\n",
       "      <td>33.0</td>\n",
       "      <td>34.0</td>\n",
       "      <td>36227.485182</td>\n",
       "      <td>1.0</td>\n",
       "      <td>2488.600000</td>\n",
       "      <td>5126.725758</td>\n",
       "      <td>1966.618182</td>\n",
       "      <td>1.992424</td>\n",
       "      <td>1.583333</td>\n",
       "      <td>1.989394</td>\n",
       "      <td>...</td>\n",
       "      <td>1.0</td>\n",
       "      <td>1.0</td>\n",
       "      <td>1.0</td>\n",
       "      <td>1.0</td>\n",
       "      <td>1.0</td>\n",
       "      <td>1.0</td>\n",
       "      <td>1.0</td>\n",
       "      <td>1.0</td>\n",
       "      <td>1.0</td>\n",
       "      <td>5.102593</td>\n",
       "    </tr>\n",
       "    <tr>\n",
       "      <th>std</th>\n",
       "      <td>0.0</td>\n",
       "      <td>0.0</td>\n",
       "      <td>1032.244646</td>\n",
       "      <td>0.0</td>\n",
       "      <td>2534.241997</td>\n",
       "      <td>6064.959859</td>\n",
       "      <td>15.292785</td>\n",
       "      <td>0.086741</td>\n",
       "      <td>0.493193</td>\n",
       "      <td>0.102477</td>\n",
       "      <td>...</td>\n",
       "      <td>0.0</td>\n",
       "      <td>0.0</td>\n",
       "      <td>0.0</td>\n",
       "      <td>0.0</td>\n",
       "      <td>0.0</td>\n",
       "      <td>0.0</td>\n",
       "      <td>0.0</td>\n",
       "      <td>0.0</td>\n",
       "      <td>0.0</td>\n",
       "      <td>2.072518</td>\n",
       "    </tr>\n",
       "    <tr>\n",
       "      <th>min</th>\n",
       "      <td>33.0</td>\n",
       "      <td>34.0</td>\n",
       "      <td>35620.000000</td>\n",
       "      <td>1.0</td>\n",
       "      <td>121.460313</td>\n",
       "      <td>144.674960</td>\n",
       "      <td>1933.000000</td>\n",
       "      <td>1.000000</td>\n",
       "      <td>1.000000</td>\n",
       "      <td>1.000000</td>\n",
       "      <td>...</td>\n",
       "      <td>1.0</td>\n",
       "      <td>1.0</td>\n",
       "      <td>1.0</td>\n",
       "      <td>1.0</td>\n",
       "      <td>1.0</td>\n",
       "      <td>1.0</td>\n",
       "      <td>1.0</td>\n",
       "      <td>1.0</td>\n",
       "      <td>1.0</td>\n",
       "      <td>1.000000</td>\n",
       "    </tr>\n",
       "    <tr>\n",
       "      <th>25%</th>\n",
       "      <td>33.0</td>\n",
       "      <td>34.0</td>\n",
       "      <td>35620.000000</td>\n",
       "      <td>1.0</td>\n",
       "      <td>1124.104565</td>\n",
       "      <td>1887.112468</td>\n",
       "      <td>1954.000000</td>\n",
       "      <td>2.000000</td>\n",
       "      <td>1.000000</td>\n",
       "      <td>2.000000</td>\n",
       "      <td>...</td>\n",
       "      <td>1.0</td>\n",
       "      <td>1.0</td>\n",
       "      <td>1.0</td>\n",
       "      <td>1.0</td>\n",
       "      <td>1.0</td>\n",
       "      <td>1.0</td>\n",
       "      <td>1.0</td>\n",
       "      <td>1.0</td>\n",
       "      <td>1.0</td>\n",
       "      <td>4.000000</td>\n",
       "    </tr>\n",
       "    <tr>\n",
       "      <th>50%</th>\n",
       "      <td>33.0</td>\n",
       "      <td>34.0</td>\n",
       "      <td>35620.000000</td>\n",
       "      <td>1.0</td>\n",
       "      <td>1447.411788</td>\n",
       "      <td>3111.191957</td>\n",
       "      <td>1965.000000</td>\n",
       "      <td>2.000000</td>\n",
       "      <td>2.000000</td>\n",
       "      <td>2.000000</td>\n",
       "      <td>...</td>\n",
       "      <td>1.0</td>\n",
       "      <td>1.0</td>\n",
       "      <td>1.0</td>\n",
       "      <td>1.0</td>\n",
       "      <td>1.0</td>\n",
       "      <td>1.0</td>\n",
       "      <td>1.0</td>\n",
       "      <td>1.0</td>\n",
       "      <td>1.0</td>\n",
       "      <td>5.000000</td>\n",
       "    </tr>\n",
       "    <tr>\n",
       "      <th>75%</th>\n",
       "      <td>33.0</td>\n",
       "      <td>34.0</td>\n",
       "      <td>37980.000000</td>\n",
       "      <td>1.0</td>\n",
       "      <td>2975.654051</td>\n",
       "      <td>6075.786337</td>\n",
       "      <td>1979.000000</td>\n",
       "      <td>2.000000</td>\n",
       "      <td>2.000000</td>\n",
       "      <td>2.000000</td>\n",
       "      <td>...</td>\n",
       "      <td>1.0</td>\n",
       "      <td>1.0</td>\n",
       "      <td>1.0</td>\n",
       "      <td>1.0</td>\n",
       "      <td>1.0</td>\n",
       "      <td>1.0</td>\n",
       "      <td>1.0</td>\n",
       "      <td>1.0</td>\n",
       "      <td>1.0</td>\n",
       "      <td>7.000000</td>\n",
       "    </tr>\n",
       "    <tr>\n",
       "      <th>max</th>\n",
       "      <td>33.0</td>\n",
       "      <td>34.0</td>\n",
       "      <td>37980.000000</td>\n",
       "      <td>1.0</td>\n",
       "      <td>38388.430466</td>\n",
       "      <td>68820.036156</td>\n",
       "      <td>2003.000000</td>\n",
       "      <td>2.000000</td>\n",
       "      <td>2.000000</td>\n",
       "      <td>2.000000</td>\n",
       "      <td>...</td>\n",
       "      <td>1.0</td>\n",
       "      <td>1.0</td>\n",
       "      <td>1.0</td>\n",
       "      <td>1.0</td>\n",
       "      <td>1.0</td>\n",
       "      <td>1.0</td>\n",
       "      <td>1.0</td>\n",
       "      <td>1.0</td>\n",
       "      <td>1.0</td>\n",
       "      <td>8.000000</td>\n",
       "    </tr>\n",
       "  </tbody>\n",
       "</table>\n",
       "<p>8 rows × 238 columns</p>\n",
       "</div>"
      ],
      "text/plain": [
       "         WEEK  EST_ST       EST_MSA  REGION       HWEIGHT       PWEIGHT  \\\n",
       "count  1320.0  1320.0   1181.000000  1320.0   1320.000000   1320.000000   \n",
       "mean     33.0    34.0  36227.485182     1.0   2488.600000   5126.725758   \n",
       "std       0.0     0.0   1032.244646     0.0   2534.241997   6064.959859   \n",
       "min      33.0    34.0  35620.000000     1.0    121.460313    144.674960   \n",
       "25%      33.0    34.0  35620.000000     1.0   1124.104565   1887.112468   \n",
       "50%      33.0    34.0  35620.000000     1.0   1447.411788   3111.191957   \n",
       "75%      33.0    34.0  37980.000000     1.0   2975.654051   6075.786337   \n",
       "max      33.0    34.0  37980.000000     1.0  38388.430466  68820.036156   \n",
       "\n",
       "       TBIRTH_YEAR  ABIRTH_YEAR      EGENDER      AGENDER  ...  PSWHYCHG1  \\\n",
       "count  1320.000000  1320.000000  1320.000000  1320.000000  ...       17.0   \n",
       "mean   1966.618182     1.992424     1.583333     1.989394  ...        1.0   \n",
       "std      15.292785     0.086741     0.493193     0.102477  ...        0.0   \n",
       "min    1933.000000     1.000000     1.000000     1.000000  ...        1.0   \n",
       "25%    1954.000000     2.000000     1.000000     2.000000  ...        1.0   \n",
       "50%    1965.000000     2.000000     2.000000     2.000000  ...        1.0   \n",
       "75%    1979.000000     2.000000     2.000000     2.000000  ...        1.0   \n",
       "max    2003.000000     2.000000     2.000000     2.000000  ...        1.0   \n",
       "\n",
       "       PSWHYCHG2  PSWHYCHG3  PSWHYCHG4  PSWHYCHG5  PSWHYCHG6  PSWHYCHG7  \\\n",
       "count        4.0        4.0       60.0       19.0       20.0       15.0   \n",
       "mean         1.0        1.0        1.0        1.0        1.0        1.0   \n",
       "std          0.0        0.0        0.0        0.0        0.0        0.0   \n",
       "min          1.0        1.0        1.0        1.0        1.0        1.0   \n",
       "25%          1.0        1.0        1.0        1.0        1.0        1.0   \n",
       "50%          1.0        1.0        1.0        1.0        1.0        1.0   \n",
       "75%          1.0        1.0        1.0        1.0        1.0        1.0   \n",
       "max          1.0        1.0        1.0        1.0        1.0        1.0   \n",
       "\n",
       "       PSWHYCHG8  PSWHYCHG9      INCOME  \n",
       "count       15.0        9.0  887.000000  \n",
       "mean         1.0        1.0    5.102593  \n",
       "std          0.0        0.0    2.072518  \n",
       "min          1.0        1.0    1.000000  \n",
       "25%          1.0        1.0    4.000000  \n",
       "50%          1.0        1.0    5.000000  \n",
       "75%          1.0        1.0    7.000000  \n",
       "max          1.0        1.0    8.000000  \n",
       "\n",
       "[8 rows x 238 columns]"
      ]
     },
     "execution_count": 15,
     "metadata": {},
     "output_type": "execute_result"
    }
   ],
   "source": [
    "#Get summary statistics for Summer \n",
    "\n",
    "dfSummer.describe()"
   ]
  },
  {
   "cell_type": "markdown",
   "id": "2dad621f",
   "metadata": {},
   "source": [
    "### C) Extracting labels from the Data"
   ]
  },
  {
   "cell_type": "code",
   "execution_count": 16,
   "id": "17d4d12e",
   "metadata": {},
   "outputs": [
    {
     "data": {
      "text/plain": [
       "['SCRAM',\n",
       " 'WEEK',\n",
       " 'EST_ST',\n",
       " 'EST_MSA',\n",
       " 'REGION',\n",
       " 'HWEIGHT',\n",
       " 'PWEIGHT',\n",
       " 'TBIRTH_YEAR',\n",
       " 'ABIRTH_YEAR',\n",
       " 'EGENDER',\n",
       " 'AGENDER',\n",
       " 'RHISPANIC',\n",
       " 'AHISPANIC',\n",
       " 'RRACE',\n",
       " 'ARACE',\n",
       " 'EEDUC',\n",
       " 'AEDUC',\n",
       " 'MS',\n",
       " 'THHLD_NUMPER',\n",
       " 'AHHLD_NUMPER',\n",
       " 'THHLD_NUMKID',\n",
       " 'AHHLD_NUMKID',\n",
       " 'THHLD_NUMADLT',\n",
       " 'WRKLOSS',\n",
       " 'EXPCTLOSS',\n",
       " 'ANYWORK',\n",
       " 'KINDWORK',\n",
       " 'RSNNOWRK',\n",
       " 'TW_START',\n",
       " 'UNEMPPAY',\n",
       " 'UI_APPLY',\n",
       " 'UI_RECV',\n",
       " 'TUI_NUMPER',\n",
       " 'SSA_RECV',\n",
       " 'SSA_APPLY',\n",
       " 'SSAPGM1',\n",
       " 'SSAPGM2',\n",
       " 'SSAPGM3',\n",
       " 'SSAPGM4',\n",
       " 'SSAPGM5',\n",
       " 'SSALIKELY',\n",
       " 'SSAEXPCT1',\n",
       " 'SSAEXPCT2',\n",
       " 'SSAEXPCT3',\n",
       " 'SSAEXPCT4',\n",
       " 'SSAEXPCT5',\n",
       " 'SSADECISN',\n",
       " 'EXPNS_DIF',\n",
       " 'CHNGHOW1',\n",
       " 'CHNGHOW2',\n",
       " 'CHNGHOW3',\n",
       " 'CHNGHOW4',\n",
       " 'CHNGHOW5',\n",
       " 'CHNGHOW6',\n",
       " 'CHNGHOW7',\n",
       " 'CHNGHOW8',\n",
       " 'CHNGHOW9',\n",
       " 'CHNGHOW10',\n",
       " 'CHNGHOW11',\n",
       " 'CHNGHOW12',\n",
       " 'WHYCHNGD1',\n",
       " 'WHYCHNGD2',\n",
       " 'WHYCHNGD3',\n",
       " 'WHYCHNGD4',\n",
       " 'WHYCHNGD5',\n",
       " 'WHYCHNGD6',\n",
       " 'WHYCHNGD7',\n",
       " 'WHYCHNGD8',\n",
       " 'WHYCHNGD9',\n",
       " 'WHYCHNGD10',\n",
       " 'WHYCHNGD11',\n",
       " 'WHYCHNGD12',\n",
       " 'WHYCHNGD13',\n",
       " 'SPNDSRC1',\n",
       " 'SPNDSRC2',\n",
       " 'SPNDSRC3',\n",
       " 'SPNDSRC4',\n",
       " 'SPNDSRC5',\n",
       " 'SPNDSRC6',\n",
       " 'SPNDSRC7',\n",
       " 'SPNDSRC8',\n",
       " 'FEWRTRIPS',\n",
       " 'FEWRTRANS',\n",
       " 'PLNDTRIPS',\n",
       " 'CNCLDTRPS',\n",
       " 'PRIFOODSUF',\n",
       " 'CURFOODSUF',\n",
       " 'CHILDFOOD',\n",
       " 'FOODSUFRSN1',\n",
       " 'FOODSUFRSN2',\n",
       " 'FOODSUFRSN3',\n",
       " 'FOODSUFRSN4',\n",
       " 'FOODSUFRSN5',\n",
       " 'FREEFOOD',\n",
       " 'WHEREFREE1',\n",
       " 'WHEREFREE2',\n",
       " 'WHEREFREE3',\n",
       " 'WHEREFREE4',\n",
       " 'WHEREFREE5',\n",
       " 'WHEREFREE6',\n",
       " 'WHEREFREE7',\n",
       " 'SNAP_YN',\n",
       " 'SNAPMNTH1',\n",
       " 'SNAPMNTH2',\n",
       " 'SNAPMNTH3',\n",
       " 'SNAPMNTH4',\n",
       " 'SNAPMNTH5',\n",
       " 'SNAPMNTH6',\n",
       " 'SNAPMNTH7',\n",
       " 'SNAPMNTH8',\n",
       " 'SNAPMNTH9',\n",
       " 'SNAPMNTH10',\n",
       " 'SNAPMNTH11',\n",
       " 'SNAPMNTH12',\n",
       " 'TSPNDFOOD',\n",
       " 'TSPNDPRPD',\n",
       " 'FOODCONF',\n",
       " 'HLTHSTATUS',\n",
       " 'ANXIOUS',\n",
       " 'WORRY',\n",
       " 'INTEREST',\n",
       " 'DOWN',\n",
       " 'HLTHINS1',\n",
       " 'HLTHINS2',\n",
       " 'HLTHINS3',\n",
       " 'HLTHINS4',\n",
       " 'HLTHINS5',\n",
       " 'HLTHINS6',\n",
       " 'HLTHINS7',\n",
       " 'HLTHINS8',\n",
       " 'PRIVHLTH',\n",
       " 'PUBHLTH',\n",
       " 'DELAY',\n",
       " 'NOTGET',\n",
       " 'PRESCRIPT',\n",
       " 'MH_SVCS',\n",
       " 'MH_NOTGET',\n",
       " 'TENURE',\n",
       " 'LIVQTR',\n",
       " 'TBEDROOMS',\n",
       " 'RENTCUR',\n",
       " 'MORTCUR',\n",
       " 'MORTCONF',\n",
       " 'EVICT',\n",
       " 'FORCLOSE',\n",
       " 'ENROLL1',\n",
       " 'ENROLL2',\n",
       " 'ENROLL3',\n",
       " 'TEACH1',\n",
       " 'TEACH2',\n",
       " 'TEACH3',\n",
       " 'TEACH4',\n",
       " 'TEACH5',\n",
       " 'COMPAVAIL',\n",
       " 'COMP1',\n",
       " 'COMP2',\n",
       " 'COMP3',\n",
       " 'INTRNTAVAIL',\n",
       " 'INTRNT1',\n",
       " 'INTRNT2',\n",
       " 'INTRNT3',\n",
       " 'SCHLHRS',\n",
       " 'TSTDY_HRS',\n",
       " 'TCH_HRS',\n",
       " 'TNUM_PS',\n",
       " 'PSPLANS1',\n",
       " 'PSPLANS2',\n",
       " 'PSPLANS3',\n",
       " 'PSPLANS4',\n",
       " 'PSPLANS5',\n",
       " 'PSPLANS6',\n",
       " 'PSCHNG1',\n",
       " 'PSCHNG2',\n",
       " 'PSCHNG3',\n",
       " 'PSCHNG4',\n",
       " 'PSCHNG5',\n",
       " 'PSCHNG6',\n",
       " 'PSCHNG7',\n",
       " 'PSWHYCHG1',\n",
       " 'PSWHYCHG2',\n",
       " 'PSWHYCHG3',\n",
       " 'PSWHYCHG4',\n",
       " 'PSWHYCHG5',\n",
       " 'PSWHYCHG6',\n",
       " 'PSWHYCHG7',\n",
       " 'PSWHYCHG8',\n",
       " 'PSWHYCHG9',\n",
       " 'INCOME']"
      ]
     },
     "execution_count": 16,
     "metadata": {},
     "output_type": "execute_result"
    }
   ],
   "source": [
    "#Extract column headers and analyze which variables can be utilized for analysis \n",
    "\n",
    "list(dfWinter.columns)"
   ]
  },
  {
   "cell_type": "code",
   "execution_count": 17,
   "id": "b57f4161",
   "metadata": {},
   "outputs": [
    {
     "data": {
      "text/plain": [
       "['SCRAM',\n",
       " 'WEEK',\n",
       " 'EST_ST',\n",
       " 'EST_MSA',\n",
       " 'REGION',\n",
       " 'HWEIGHT',\n",
       " 'PWEIGHT',\n",
       " 'TBIRTH_YEAR',\n",
       " 'ABIRTH_YEAR',\n",
       " 'EGENDER',\n",
       " 'AGENDER',\n",
       " 'RHISPANIC',\n",
       " 'AHISPANIC',\n",
       " 'RRACE',\n",
       " 'ARACE',\n",
       " 'EEDUC',\n",
       " 'AEDUC',\n",
       " 'MS',\n",
       " 'THHLD_NUMPER',\n",
       " 'AHHLD_NUMPER',\n",
       " 'THHLD_NUMKID',\n",
       " 'AHHLD_NUMKID',\n",
       " 'THHLD_NUMADLT',\n",
       " 'ACTVDUTY1',\n",
       " 'ACTVDUTY2',\n",
       " 'ACTVDUTY3',\n",
       " 'ACTVDUTY4',\n",
       " 'ACTVDUTY5',\n",
       " 'RECVDVACC',\n",
       " 'DOSES',\n",
       " 'GETVACRV',\n",
       " 'WHYNOT1',\n",
       " 'WHYNOT2',\n",
       " 'WHYNOT3',\n",
       " 'WHYNOT4',\n",
       " 'WHYNOT5',\n",
       " 'WHYNOT6',\n",
       " 'WHYNOT7',\n",
       " 'WHYNOT8',\n",
       " 'WHYNOT9',\n",
       " 'WHYNOT10',\n",
       " 'WHYNOT11',\n",
       " 'WHYNOTB1',\n",
       " 'WHYNOTB2',\n",
       " 'WHYNOTB3',\n",
       " 'WHYNOTB4',\n",
       " 'WHYNOTB5',\n",
       " 'WHYNOTB6',\n",
       " 'COVPRVNT',\n",
       " 'HADCOVID',\n",
       " 'WRKLOSSRV',\n",
       " 'EXPCTLOSS',\n",
       " 'ANYWORK',\n",
       " 'KINDWORK',\n",
       " 'RSNNOWRKRV',\n",
       " 'TW_YN',\n",
       " 'TW_COV',\n",
       " 'WKVOL',\n",
       " 'SETTING',\n",
       " 'UI_APPLYRV',\n",
       " 'UI_RECVRV',\n",
       " 'UI_RECVNOW',\n",
       " 'SSA_RECV',\n",
       " 'SSA_APPLYRV',\n",
       " 'SSAPGMRV1',\n",
       " 'SSAPGMRV2',\n",
       " 'SSAPGMRV3',\n",
       " 'SSAPGMRV4',\n",
       " 'SSAPGMRV5',\n",
       " 'SSALIKELYRV',\n",
       " 'SSAEXPCT1',\n",
       " 'SSAEXPCT2',\n",
       " 'SSAEXPCT3',\n",
       " 'SSAEXPCT4',\n",
       " 'SSAEXPCT5',\n",
       " 'SSADECISN',\n",
       " 'EIP_YN',\n",
       " 'EIPRV',\n",
       " 'EIPSPND1',\n",
       " 'EIPSPND2',\n",
       " 'EIPSPND3',\n",
       " 'EIPSPND4',\n",
       " 'EIPSPND5',\n",
       " 'EIPSPND6',\n",
       " 'EIPSPND7',\n",
       " 'EIPSPND8',\n",
       " 'EIPSPND9',\n",
       " 'EIPSPND10',\n",
       " 'EIPSPND11',\n",
       " 'EIPSPND12',\n",
       " 'EIPSPND13',\n",
       " 'EXPNS_DIF',\n",
       " 'CHNGSHOP1',\n",
       " 'CHNGSHOP2',\n",
       " 'CHNGSHOP3',\n",
       " 'CHNGSVCS1',\n",
       " 'CHNGSVCS2',\n",
       " 'CHNGSVCS3',\n",
       " 'CHNGSHP1ML',\n",
       " 'CHNGSHP2ML',\n",
       " 'CHNGSHP3ML',\n",
       " 'CHNGSVC1ML',\n",
       " 'CHNGSVC2ML',\n",
       " 'CHNGSVC3ML',\n",
       " 'CASHUSE',\n",
       " 'WHYCHNGD1',\n",
       " 'WHYCHNGD2',\n",
       " 'WHYCHNGD3',\n",
       " 'WHYCHNGD4',\n",
       " 'WHYCHNGD5',\n",
       " 'WHYCHNGD6',\n",
       " 'WHYCHNGD7',\n",
       " 'WHYCHNGD8',\n",
       " 'WHYCHNGD9',\n",
       " 'WHYCHNGD10',\n",
       " 'WHYCHNGD11',\n",
       " 'WHYCHNGD12',\n",
       " 'WHYCHNGD13',\n",
       " 'SPNDSRC1',\n",
       " 'SPNDSRC2',\n",
       " 'SPNDSRC3',\n",
       " 'SPNDSRC4',\n",
       " 'SPNDSRC5',\n",
       " 'SPNDSRC6',\n",
       " 'SPNDSRC7',\n",
       " 'SPNDSRC8',\n",
       " 'SPNDSRC9',\n",
       " 'FEWRTRIP1',\n",
       " 'FEWRTRIP2',\n",
       " 'FEWRTRIP3',\n",
       " 'PRVRIDESHR',\n",
       " 'FEWRTRANS',\n",
       " 'PLNDTRIPS',\n",
       " 'CURFOODSUF',\n",
       " 'CHILDFOOD',\n",
       " 'FOODRSNRV1',\n",
       " 'FOODRSNRV2',\n",
       " 'FOODRSNRV3',\n",
       " 'FOODRSNRV4',\n",
       " 'FREEFOOD',\n",
       " 'SNAP_YN',\n",
       " 'TSPNDFOOD',\n",
       " 'TSPNDPRPD',\n",
       " 'ANXIOUS',\n",
       " 'WORRY',\n",
       " 'INTEREST',\n",
       " 'DOWN',\n",
       " 'HLTHINS1',\n",
       " 'HLTHINS2',\n",
       " 'HLTHINS3',\n",
       " 'HLTHINS4',\n",
       " 'HLTHINS5',\n",
       " 'HLTHINS6',\n",
       " 'HLTHINS7',\n",
       " 'HLTHINS8',\n",
       " 'PRIVHLTH',\n",
       " 'PUBHLTH',\n",
       " 'DELAY',\n",
       " 'NOTGET',\n",
       " 'TELEHLTH',\n",
       " 'TELECHLD',\n",
       " 'PRESCRIPT',\n",
       " 'MH_SVCS',\n",
       " 'MH_NOTGET',\n",
       " 'PRVNTIVE',\n",
       " 'PRVNTWHY1',\n",
       " 'PRVNTWHY2',\n",
       " 'PRVNTWHY3',\n",
       " 'PRVNTWHY4',\n",
       " 'PRVNTWHY5',\n",
       " 'PRVNTWHY6',\n",
       " 'PRVNTWHY7',\n",
       " 'SEEING',\n",
       " 'HEARING',\n",
       " 'REMEMBERING',\n",
       " 'MOBILITY',\n",
       " 'TENURE',\n",
       " 'LIVQTRRV',\n",
       " 'RENTCUR',\n",
       " 'MORTCUR',\n",
       " 'MORTCONF',\n",
       " 'EVICT',\n",
       " 'FORCLOSE',\n",
       " 'ENRPUBCHK',\n",
       " 'ENRPRVCHK',\n",
       " 'ENRHMSCHK',\n",
       " 'TENROLLPUB',\n",
       " 'TENROLLPRV',\n",
       " 'TENROLLHMSCH',\n",
       " 'ENROLLNONE',\n",
       " 'TEACH1',\n",
       " 'TEACH2',\n",
       " 'TEACH3',\n",
       " 'TEACH4',\n",
       " 'TEACH5',\n",
       " 'TEACH6',\n",
       " 'TEACH7',\n",
       " 'TEACH8',\n",
       " 'HYBRID',\n",
       " 'COMPAVAIL',\n",
       " 'INTRNTAVAIL',\n",
       " 'INTRNTRV1',\n",
       " 'INTRNTRV2',\n",
       " 'INTRNTRV3',\n",
       " 'INTRNTRV4',\n",
       " 'SCHLHRS',\n",
       " 'SCHLFOOD',\n",
       " 'SCHLFDHLP1',\n",
       " 'SCHLFDHLP2',\n",
       " 'SCHLFDHLP3',\n",
       " 'SCHLFDHLP4',\n",
       " 'CHLDCARE',\n",
       " 'CHLDIMPCT1',\n",
       " 'CHLDIMPCT2',\n",
       " 'CHLDIMPCT3',\n",
       " 'CHLDIMPCT4',\n",
       " 'CHLDIMPCT5',\n",
       " 'CHLDIMPCT6',\n",
       " 'CHLDIMPCT7',\n",
       " 'CHLDIMPCT8',\n",
       " 'CHLDIMPCT9',\n",
       " 'TNUM_PS',\n",
       " 'PSCHNG1',\n",
       " 'PSCHNG2',\n",
       " 'PSCHNG3',\n",
       " 'PSCHNG4',\n",
       " 'PSCHNG5',\n",
       " 'PSCHNG6',\n",
       " 'PSCHNG7',\n",
       " 'PSWHYCHG1',\n",
       " 'PSWHYCHG2',\n",
       " 'PSWHYCHG3',\n",
       " 'PSWHYCHG4',\n",
       " 'PSWHYCHG5',\n",
       " 'PSWHYCHG6',\n",
       " 'PSWHYCHG7',\n",
       " 'PSWHYCHG8',\n",
       " 'PSWHYCHG9',\n",
       " 'INCOME']"
      ]
     },
     "execution_count": 17,
     "metadata": {},
     "output_type": "execute_result"
    }
   ],
   "source": [
    "#Extract column headers for the summer data set for the same purpose \n",
    "\n",
    "list(dfSummer.columns)"
   ]
  },
  {
   "cell_type": "markdown",
   "id": "c2254288",
   "metadata": {},
   "source": [
    "## Insights \n",
    "\n",
    "Now I have the data for both the summer and winter in dataframes for analysis and will begin to derive insights from both data sets"
   ]
  },
  {
   "cell_type": "markdown",
   "id": "366be58c",
   "metadata": {},
   "source": [
    "## Part 2: Analyzing the difference in Winter and Summer Mental Health\n",
    "\n",
    "<img src=\"https://www.wellmark.com/-/media/sites/blue-magazine/2021-content-marketing/january/seasonal-affective-disorder-sad.png?sc_lang=en\" style = \"float:middle; width:400px; height:250px;\"/>"
   ]
  },
  {
   "cell_type": "markdown",
   "id": "17847c36",
   "metadata": {},
   "source": [
    "### A) Analyzing the distribution of the answers for mental health questions in both seasons"
   ]
  },
  {
   "cell_type": "code",
   "execution_count": 18,
   "id": "220b288b",
   "metadata": {},
   "outputs": [],
   "source": [
    "import matplotlib.pyplot as plt"
   ]
  },
  {
   "cell_type": "code",
   "execution_count": 19,
   "id": "ba00408c",
   "metadata": {},
   "outputs": [
    {
     "data": {
      "image/png": "[encoded data removed]",
      "text/plain": [
       "<Figure size 432x288 with 1 Axes>"
      ]
     },
     "metadata": {
      "needs_background": "light"
     },
     "output_type": "display_data"
    }
   ],
   "source": [
    "#Create a histogram in order to analyze the distribution of answers for the Down question during the Winter\n",
    "\n",
    "dfWinter.DOWN.plot.hist(color = 'darkblue',title = 'Winter Down Ratings Distribution',bins=10)\n",
    "plt.ylim([0,650]);"
   ]
  },
  {
   "cell_type": "code",
   "execution_count": 20,
   "id": "789505b0",
   "metadata": {},
   "outputs": [
    {
     "data": {
      "image/png": "[encoded data removed]",
      "text/plain": [
       "<Figure size 432x288 with 1 Axes>"
      ]
     },
     "metadata": {
      "needs_background": "light"
     },
     "output_type": "display_data"
    }
   ],
   "source": [
    "#Create a histogram in order to analyze the distribution of answers for the Down question during the Summer\n",
    "\n",
    "dfSummer.DOWN.plot.hist(color = 'darkblue',title = 'Summer Down Ratings Distribution',bins=10)\n",
    "plt.ylim([0,650]);"
   ]
  },
  {
   "cell_type": "code",
   "execution_count": 21,
   "id": "8b7fe286",
   "metadata": {},
   "outputs": [
    {
     "data": {
      "image/png": "[encoded data removed]",
      "text/plain": [
       "<Figure size 432x288 with 1 Axes>"
      ]
     },
     "metadata": {
      "needs_background": "light"
     },
     "output_type": "display_data"
    }
   ],
   "source": [
    "#Create a histogram in order to analyze the distribution of answers for the Worry question during the Winter\n",
    "\n",
    "dfWinter.WORRY.plot.hist(color = 'purple',title = 'Winter Worry Ratings Distribution',bins=10)\n",
    "plt.ylim([0,650]);"
   ]
  },
  {
   "cell_type": "code",
   "execution_count": 22,
   "id": "10e78757",
   "metadata": {},
   "outputs": [
    {
     "data": {
      "image/png": "[encoded data removed]",
      "text/plain": [
       "<Figure size 432x288 with 1 Axes>"
      ]
     },
     "metadata": {
      "needs_background": "light"
     },
     "output_type": "display_data"
    }
   ],
   "source": [
    "#Create a histogram in order to analyze the distribution of answers for the Worry question during the Summer\n",
    "\n",
    "dfSummer.WORRY.plot.hist(color = 'purple',title= 'Summer Worry Rating Distribution',bins=10)\n",
    "plt.ylim([0,650]);"
   ]
  },
  {
   "cell_type": "code",
   "execution_count": 23,
   "id": "7a8e2a0d",
   "metadata": {},
   "outputs": [
    {
     "data": {
      "image/png": "[encoded data removed]",
      "text/plain": [
       "<Figure size 432x288 with 1 Axes>"
      ]
     },
     "metadata": {
      "needs_background": "light"
     },
     "output_type": "display_data"
    }
   ],
   "source": [
    "#Create a histogram in order to analyze the distribution of answers for the Anxious question during the Winter\n",
    "\n",
    "dfWinter.ANXIOUS.plot.hist(color = 'red',title = 'Winter Anxious Rating Distribution',bins=10)\n",
    "plt.ylim([0,650]);"
   ]
  },
  {
   "cell_type": "code",
   "execution_count": 24,
   "id": "cfda31c3",
   "metadata": {
    "scrolled": true
   },
   "outputs": [
    {
     "data": {
      "image/png": "[encoded data removed]",
      "text/plain": [
       "<Figure size 432x288 with 1 Axes>"
      ]
     },
     "metadata": {
      "needs_background": "light"
     },
     "output_type": "display_data"
    }
   ],
   "source": [
    "#Create a histogram in order to analyze the distribution of answers for the Anxious question during the Summer\n",
    "\n",
    "dfSummer.ANXIOUS.plot.hist(color = 'red',title = 'Summer Anxious Rating Distribution',bins=10)\n",
    "plt.ylim([0,650]);"
   ]
  },
  {
   "cell_type": "markdown",
   "id": "e5ada6ac",
   "metadata": {},
   "source": [
    "### B) Extract the average scores for the mental health questions in both seasons"
   ]
  },
  {
   "cell_type": "code",
   "execution_count": 25,
   "id": "260a9981",
   "metadata": {},
   "outputs": [
    {
     "data": {
      "text/plain": [
       "DOWN       1.530632\n",
       "WORRY      1.633761\n",
       "ANXIOUS    1.747296\n",
       "dtype: float64"
      ]
     },
     "execution_count": 25,
     "metadata": {},
     "output_type": "execute_result"
    }
   ],
   "source": [
    "#Extract the average ratings for all three mental health ratings during the Summer\n",
    "\n",
    "dfSummer[['DOWN','WORRY','ANXIOUS']].mean()"
   ]
  },
  {
   "cell_type": "code",
   "execution_count": 26,
   "id": "cfb2907e",
   "metadata": {},
   "outputs": [
    {
     "data": {
      "text/plain": [
       "DOWN       1.816211\n",
       "WORRY      1.942561\n",
       "ANXIOUS    2.191149\n",
       "dtype: float64"
      ]
     },
     "execution_count": 26,
     "metadata": {},
     "output_type": "execute_result"
    }
   ],
   "source": [
    "#Extract the average ratings for all three mental health ratings during the Winter\n",
    "\n",
    "dfWinter[['DOWN','WORRY','ANXIOUS']].mean()"
   ]
  },
  {
   "cell_type": "code",
   "execution_count": 27,
   "id": "9c63c8e7",
   "metadata": {},
   "outputs": [
    {
     "data": {
      "text/plain": [
       "DOWN       0.285579\n",
       "WORRY      0.308800\n",
       "ANXIOUS    0.443853\n",
       "dtype: float64"
      ]
     },
     "execution_count": 27,
     "metadata": {},
     "output_type": "execute_result"
    }
   ],
   "source": [
    "#Analyze the difference in the average mental health ratings during the Winter vs during the Summer \n",
    "\n",
    "dfWinter[['DOWN','WORRY','ANXIOUS']].mean()-dfSummer[['DOWN','WORRY','ANXIOUS']].mean()"
   ]
  },
  {
   "cell_type": "markdown",
   "id": "b755585a",
   "metadata": {},
   "source": [
    "### C) Create Visualizations of my findings"
   ]
  },
  {
   "cell_type": "code",
   "execution_count": 28,
   "id": "3d6d6cb2",
   "metadata": {},
   "outputs": [
    {
     "data": {
      "text/plain": [
       "(0.0, 2.3)"
      ]
     },
     "execution_count": 28,
     "metadata": {},
     "output_type": "execute_result"
    },
    {
     "data": {
      "image/png": "[encoded data removed]",
      "text/plain": [
       "<Figure size 432x288 with 1 Axes>"
      ]
     },
     "metadata": {
      "needs_background": "light"
     },
     "output_type": "display_data"
    }
   ],
   "source": [
    "#Create a visualization of the average mental health ratings during the summer utilizing a bar graph \n",
    "\n",
    "dfSummerAVG = dfSummer[['ANXIOUS','WORRY','DOWN']].mean()\n",
    "dfSummerAVG.plot.bar(rot = 0, title = 'Summer Mental Health Averages',color='red',alpha = 0.7)\n",
    "plt.ylim([0,2.3])"
   ]
  },
  {
   "cell_type": "code",
   "execution_count": 29,
   "id": "f5e7e57b",
   "metadata": {},
   "outputs": [
    {
     "data": {
      "text/plain": [
       "(0.0, 2.3)"
      ]
     },
     "execution_count": 29,
     "metadata": {},
     "output_type": "execute_result"
    },
    {
     "data": {
      "image/png": "[encoded data removed]",
      "text/plain": [
       "<Figure size 432x288 with 1 Axes>"
      ]
     },
     "metadata": {
      "needs_background": "light"
     },
     "output_type": "display_data"
    }
   ],
   "source": [
    "#Create a visualization of the average mental health ratings during the Winter utilizing a bar graph \n",
    "\n",
    "dfWinterAVG = dfWinter[['ANXIOUS','WORRY','DOWN']].mean()\n",
    "dfWinterAVG.plot.bar(rot = 0, title = 'Winter Mental Health Averages',alpha = 0.7)\n",
    "plt.ylim([0,2.3])"
   ]
  },
  {
   "cell_type": "code",
   "execution_count": 30,
   "id": "36459155",
   "metadata": {},
   "outputs": [
    {
     "data": {
      "text/plain": [
       "(0.0, 0.5)"
      ]
     },
     "execution_count": 30,
     "metadata": {},
     "output_type": "execute_result"
    },
    {
     "data": {
      "image/png": "[encoded data removed]",
      "text/plain": [
       "<Figure size 432x288 with 1 Axes>"
      ]
     },
     "metadata": {
      "needs_background": "light"
     },
     "output_type": "display_data"
    }
   ],
   "source": [
    "#Create a visualization of the difference in average mental health ratings during the Winter vs during the Summer utilizing a bar graph \n",
    "\n",
    "dfAVGdifferences = dfWinter[['ANXIOUS','WORRY','DOWN']].mean()-dfSummer[['ANXIOUS','WORRY','DOWN']].mean()\n",
    "dfAVGdifferences.plot.bar(rot = 0, title = 'Difference of Mental Health Averages',color='black',alpha = 0.7)\n",
    "plt.ylim([0,0.5])"
   ]
  },
  {
   "cell_type": "markdown",
   "id": "711909bc",
   "metadata": {},
   "source": [
    "## Insights \n",
    "\n",
    "My original hypothesis has held true and there is a difference between the mental health rankings during the summer versus during the winter. During the winter times it is colder and cloudier which leads people to find comfort within their homes. This leads to less exposure to sunlight, less social interactions with people because of the barrier to travel and see them, and less vitamin D from sunlight. All of these factors lead to something people call seasonal depression which can deter people's mental health during the winter time. From the data I have seen that seasonal depression continued during COVID and people's mental health responses seemed to be higher during the winter. Anxious ratings were the highest during the winter, next were worry ratings, and down ratings were not as different from the summer down ratings were as the other two mental health measures. "
   ]
  },
  {
   "cell_type": "markdown",
   "id": "c4f2f2c0",
   "metadata": {},
   "source": [
    "## Part 3: Analyzing Discrepencies in Mental health for Hispanics vs non-Hispanics\n",
    "\n",
    "<img src=\"https://media-cldnry.s-nbcnews.com/image/upload/newscms/2020_21/3358226/200520-coronavirus-latino-community-se-350p.jpg\" style = \"float:middle; width:400px; height:250px;\"/>"
   ]
  },
  {
   "cell_type": "markdown",
   "id": "9452a71c",
   "metadata": {},
   "source": [
    "### A) Extracting the Distribution of Hispanic and non-hispanic respondents"
   ]
  },
  {
   "cell_type": "code",
   "execution_count": 31,
   "id": "c50ccb67",
   "metadata": {},
   "outputs": [
    {
     "data": {
      "text/plain": [
       "1    1157\n",
       "2     129\n",
       "Name: RHISPANIC, dtype: int64"
      ]
     },
     "execution_count": 31,
     "metadata": {},
     "output_type": "execute_result"
    }
   ],
   "source": [
    "#For my next analysis I first extractd the number of hispanics in the data. Anyone who answered 2 identifies as hispanic and every 1 is a non-hispanic respondent \n",
    "\n",
    "dfWinter.RHISPANIC.value_counts()"
   ]
  },
  {
   "cell_type": "code",
   "execution_count": 32,
   "id": "45d228ad",
   "metadata": {},
   "outputs": [
    {
     "data": {
      "text/plain": [
       "<AxesSubplot:title={'center':'Hispanic Histogram'}, ylabel='Frequency'>"
      ]
     },
     "execution_count": 32,
     "metadata": {},
     "output_type": "execute_result"
    },
    {
     "data": {
      "image/png": "[encoded data removed]",
      "text/plain": [
       "<Figure size 432x288 with 1 Axes>"
      ]
     },
     "metadata": {
      "needs_background": "light"
     },
     "output_type": "display_data"
    }
   ],
   "source": [
    "#Created a histogram in order to visualize the difference in hispanic and non-hispanic respondents \n",
    "\n",
    "dfWinter.RHISPANIC.plot.hist(color = 'orange',title = 'Hispanic Histogram',bins=10)"
   ]
  },
  {
   "cell_type": "markdown",
   "id": "5c727b1b",
   "metadata": {},
   "source": [
    "### B) Visualizing the distribution of hispanics and non-hispanics answers for mental health"
   ]
  },
  {
   "cell_type": "code",
   "execution_count": 33,
   "id": "844fc51c",
   "metadata": {},
   "outputs": [
    {
     "data": {
      "text/plain": [
       "RHISPANIC\n",
       "1    AxesSubplot(0.125,0.125;0.775x0.755)\n",
       "2    AxesSubplot(0.125,0.125;0.775x0.755)\n",
       "dtype: object"
      ]
     },
     "execution_count": 33,
     "metadata": {},
     "output_type": "execute_result"
    },
    {
     "data": {
      "image/png": "[encoded data removed]",
      "text/plain": [
       "<Figure size 432x288 with 1 Axes>"
      ]
     },
     "metadata": {
      "needs_background": "light"
     },
     "output_type": "display_data"
    },
    {
     "data": {
      "image/png": "[encoded data removed]",
      "text/plain": [
       "<Figure size 432x288 with 1 Axes>"
      ]
     },
     "metadata": {
      "needs_background": "light"
     },
     "output_type": "display_data"
    }
   ],
   "source": [
    "#Create a histogram in order to visualize the distribution of the answers for the Anxious question for both Hispanic and non-hispanic respondents\n",
    "#non-hispanic respondents on top and hispanic respondents on bottom \n",
    "\n",
    "HHistogram_1 = dfWinter.groupby('RHISPANIC')[['ANXIOUS']]\n",
    "HHistogram_1.plot.hist(color = 'red',title = 'Hispanic Histogram',bins=10)"
   ]
  },
  {
   "cell_type": "code",
   "execution_count": 34,
   "id": "adb666ce",
   "metadata": {},
   "outputs": [
    {
     "data": {
      "text/plain": [
       "RHISPANIC\n",
       "1    AxesSubplot(0.125,0.125;0.775x0.755)\n",
       "2    AxesSubplot(0.125,0.125;0.775x0.755)\n",
       "dtype: object"
      ]
     },
     "execution_count": 34,
     "metadata": {},
     "output_type": "execute_result"
    },
    {
     "data": {
      "image/png": "[encoded data removed]",
      "text/plain": [
       "<Figure size 432x288 with 1 Axes>"
      ]
     },
     "metadata": {
      "needs_background": "light"
     },
     "output_type": "display_data"
    },
    {
     "data": {
      "image/png": "[encoded data removed]",
      "text/plain": [
       "<Figure size 432x288 with 1 Axes>"
      ]
     },
     "metadata": {
      "needs_background": "light"
     },
     "output_type": "display_data"
    }
   ],
   "source": [
    "#Create a histogram in order to visualize the distribution of the answers for the Worry question for both Hispanic and non-hispanic respondents\n",
    "#non-hispanic respondents on top and hispanic respondents on bottom \n",
    "\n",
    "HHistogram_2 = dfWinter.groupby('RHISPANIC')[['WORRY']]\n",
    "HHistogram_2.plot.hist(color = 'purple',title = 'Hispanic Histogram',bins=10)"
   ]
  },
  {
   "cell_type": "code",
   "execution_count": 35,
   "id": "c3daeb2c",
   "metadata": {},
   "outputs": [
    {
     "data": {
      "text/plain": [
       "RHISPANIC\n",
       "1    AxesSubplot(0.125,0.125;0.775x0.755)\n",
       "2    AxesSubplot(0.125,0.125;0.775x0.755)\n",
       "dtype: object"
      ]
     },
     "execution_count": 35,
     "metadata": {},
     "output_type": "execute_result"
    },
    {
     "data": {
      "image/png": "[encoded data removed]",
      "text/plain": [
       "<Figure size 432x288 with 1 Axes>"
      ]
     },
     "metadata": {
      "needs_background": "light"
     },
     "output_type": "display_data"
    },
    {
     "data": {
      "image/png": "[encoded data removed]",
      "text/plain": [
       "<Figure size 432x288 with 1 Axes>"
      ]
     },
     "metadata": {
      "needs_background": "light"
     },
     "output_type": "display_data"
    }
   ],
   "source": [
    "#Create a histogram in order to visualize the distribution of the answers for the Down question for both Hispanic and non-hispanic respondents\n",
    "#non-hispanic respondents on top and hispanic respondents on bottom \n",
    "\n",
    "HHistogram_3 = dfWinter.groupby('RHISPANIC')[['DOWN']]\n",
    "HHistogram_3.plot.hist(color = 'blue',title = 'Hispanic Histogram',bins=10)"
   ]
  },
  {
   "cell_type": "markdown",
   "id": "361e64ed",
   "metadata": {},
   "source": [
    "### C) Deriving the proportion of hispanics and non-hispanics which entered each answer for Mental Health"
   ]
  },
  {
   "cell_type": "code",
   "execution_count": 36,
   "id": "032f4dd4",
   "metadata": {},
   "outputs": [
    {
     "data": {
      "text/plain": [
       "ANXIOUS\n",
       "2.0        41\n",
       "1.0        25\n",
       "3.0        17\n",
       "4.0        15\n",
       "dtype: int64"
      ]
     },
     "execution_count": 36,
     "metadata": {},
     "output_type": "execute_result"
    }
   ],
   "source": [
    "#Extracting the numeric values for the distribution of anxious answers for hispanic respondents \n",
    "\n",
    "dfWinter[(dfWinter.RHISPANIC == 2)][['ANXIOUS']].value_counts()"
   ]
  },
  {
   "cell_type": "code",
   "execution_count": 37,
   "id": "253f7c56",
   "metadata": {},
   "outputs": [
    {
     "data": {
      "text/plain": [
       "ANXIOUS    98\n",
       "dtype: int64"
      ]
     },
     "execution_count": 37,
     "metadata": {},
     "output_type": "execute_result"
    }
   ],
   "source": [
    "#Extract the total number of hispanics who responded to the Anxious question\n",
    "\n",
    "dfWinter[(dfWinter.RHISPANIC == 2)][['ANXIOUS']].count()"
   ]
  },
  {
   "cell_type": "code",
   "execution_count": 38,
   "id": "2536551b",
   "metadata": {},
   "outputs": [
    {
     "data": {
      "text/plain": [
       "WORRY    98\n",
       "dtype: int64"
      ]
     },
     "execution_count": 38,
     "metadata": {},
     "output_type": "execute_result"
    }
   ],
   "source": [
    "#Extract the total number of hispanics who responded to the Worry question\n",
    "\n",
    "dfWinter[(dfWinter.RHISPANIC == 2)][['WORRY']].count()"
   ]
  },
  {
   "cell_type": "code",
   "execution_count": 39,
   "id": "3b3604fc",
   "metadata": {},
   "outputs": [
    {
     "data": {
      "text/plain": [
       "DOWN    98\n",
       "dtype: int64"
      ]
     },
     "execution_count": 39,
     "metadata": {},
     "output_type": "execute_result"
    }
   ],
   "source": [
    "#Extract the total number of hispanics who responded to the Down question\n",
    "\n",
    "dfWinter[(dfWinter.RHISPANIC == 2)][['DOWN']].count()"
   ]
  },
  {
   "cell_type": "code",
   "execution_count": 40,
   "id": "ab5127b4",
   "metadata": {},
   "outputs": [],
   "source": [
    "#In order to find the proportion of hispanic respondents who answered each type of answer I created a comand that will divide any number by the total amount of hispanic respondents\n",
    "\n",
    "def proportion(x):\n",
    "    return x / 98"
   ]
  },
  {
   "cell_type": "code",
   "execution_count": 41,
   "id": "144f6b81",
   "metadata": {},
   "outputs": [
    {
     "data": {
      "text/plain": [
       "ANXIOUS\n",
       "2.0        0.418367\n",
       "1.0        0.255102\n",
       "3.0        0.173469\n",
       "4.0        0.153061\n",
       "dtype: float64"
      ]
     },
     "execution_count": 41,
     "metadata": {},
     "output_type": "execute_result"
    }
   ],
   "source": [
    "#Utilizing the proportion comand to divide each values quantity of respondents by the total amount of hispanic respondents to obtain proportions\n",
    "\n",
    "dfproportionA = dfWinter[(dfWinter.RHISPANIC == 2)][['ANXIOUS']].value_counts().apply(proportion) \n",
    "dfproportionA"
   ]
  },
  {
   "cell_type": "code",
   "execution_count": 42,
   "id": "453259a1",
   "metadata": {},
   "outputs": [
    {
     "data": {
      "text/plain": [
       "WORRY\n",
       "2.0      37\n",
       "1.0      33\n",
       "4.0      16\n",
       "3.0      12\n",
       "dtype: int64"
      ]
     },
     "execution_count": 42,
     "metadata": {},
     "output_type": "execute_result"
    }
   ],
   "source": [
    "#Repeating the same process for the worry answers \n",
    "#Extracting the numeric values for the distribution of worry answers for hispanic respondents \n",
    "\n",
    "dfWinter[(dfWinter.RHISPANIC == 2)][['WORRY']].value_counts()"
   ]
  },
  {
   "cell_type": "code",
   "execution_count": 43,
   "id": "d638351b",
   "metadata": {},
   "outputs": [
    {
     "data": {
      "text/plain": [
       "WORRY\n",
       "2.0      0.377551\n",
       "1.0      0.336735\n",
       "4.0      0.163265\n",
       "3.0      0.122449\n",
       "dtype: float64"
      ]
     },
     "execution_count": 43,
     "metadata": {},
     "output_type": "execute_result"
    }
   ],
   "source": [
    "#Utilizing the proportion comand to divide each values quantity of respondents by the total amount of hispanic respondents to obtain proportions\n",
    "\n",
    "dfproportionW = dfWinter[(dfWinter.RHISPANIC == 2)][['WORRY']].value_counts().apply(proportion) \n",
    "dfproportionW"
   ]
  },
  {
   "cell_type": "code",
   "execution_count": 44,
   "id": "9e0e9d79",
   "metadata": {},
   "outputs": [
    {
     "data": {
      "text/plain": [
       "DOWN\n",
       "2.0     41\n",
       "1.0     37\n",
       "4.0     11\n",
       "3.0      9\n",
       "dtype: int64"
      ]
     },
     "execution_count": 44,
     "metadata": {},
     "output_type": "execute_result"
    }
   ],
   "source": [
    "#and finally for the down responses\n",
    "#Extracting the numeric values for the distribution of down answers for hispanic respondents \n",
    "\n",
    "dfWinter[(dfWinter.RHISPANIC == 2)][['DOWN']].value_counts()"
   ]
  },
  {
   "cell_type": "code",
   "execution_count": 45,
   "id": "81872b0c",
   "metadata": {},
   "outputs": [
    {
     "data": {
      "text/plain": [
       "DOWN\n",
       "2.0     0.418367\n",
       "1.0     0.377551\n",
       "4.0     0.112245\n",
       "3.0     0.091837\n",
       "dtype: float64"
      ]
     },
     "execution_count": 45,
     "metadata": {},
     "output_type": "execute_result"
    }
   ],
   "source": [
    "#Utilizing the proportion comand to divide each values quantity of respondents by the total amount of hispanic respondents to obtain proportions\n",
    "\n",
    "dfproportionD = dfWinter[(dfWinter.RHISPANIC == 2)][['DOWN']].value_counts().apply(proportion) \n",
    "dfproportionD"
   ]
  },
  {
   "cell_type": "markdown",
   "id": "d05c6b80",
   "metadata": {},
   "source": [
    "### D) Creating Visualizations for the proportions of answers for Hispanics "
   ]
  },
  {
   "cell_type": "code",
   "execution_count": 46,
   "id": "3dd1cf55",
   "metadata": {},
   "outputs": [
    {
     "data": {
      "image/png": "[encoded data removed]",
      "text/plain": [
       "<Figure size 360x360 with 1 Axes>"
      ]
     },
     "metadata": {},
     "output_type": "display_data"
    }
   ],
   "source": [
    "#Utilizing a pie chart in order to visualize the proportion of responses for each response made by Hispanic respondents for Anxiety\n",
    "\n",
    "dfproportionA.plot.pie(labels=['Several Days', 'Not at all','More than half the days', 'Nearly every day'], colors=['pink', 'lightblue', 'lightgreen', 'yellow'],\n",
    "                 autopct='%.2f', fontsize=12, figsize=(5, 5));\n",
    "plt.title('Proportion of Hispanic Anxiety Responses')\n",
    "plt.axis('off');"
   ]
  },
  {
   "cell_type": "code",
   "execution_count": 47,
   "id": "1315b5b2",
   "metadata": {},
   "outputs": [
    {
     "data": {
      "image/png": "[encoded data removed]",
      "text/plain": [
       "<Figure size 360x360 with 1 Axes>"
      ]
     },
     "metadata": {},
     "output_type": "display_data"
    }
   ],
   "source": [
    "#Utilizing a pie chart in order to visualize the proportion of responses for each response made by Hispanic respondents for Worry\n",
    "\n",
    "dfproportionW.plot.pie(labels=['Several Days', 'Not at all','Nearly every day', 'More than half the days'], colors=['pink', 'lightblue', 'yellow', 'lightgreen'],\n",
    "                 autopct='%.2f', fontsize=12, figsize=(5, 5));\n",
    "plt.title('Proportion of Hispanic Worry Responses')\n",
    "plt.axis('off');"
   ]
  },
  {
   "cell_type": "code",
   "execution_count": 48,
   "id": "4f024a68",
   "metadata": {},
   "outputs": [
    {
     "data": {
      "image/png": "[encoded data removed]",
      "text/plain": [
       "<Figure size 360x360 with 1 Axes>"
      ]
     },
     "metadata": {},
     "output_type": "display_data"
    }
   ],
   "source": [
    "#Utilizing a pie chart in order to visualize the proportion of responses for each response made by Hispanic respondents for Down\n",
    "\n",
    "dfproportionD.plot.pie(labels=['Several Days', 'Not at all','Nearly every day', 'More than half the days'], colors=['pink', 'lightblue', 'yellow', 'lightgreen'],\n",
    "                 autopct='%.2f', fontsize=12, figsize=(5, 5));\n",
    "plt.title('Proportion of Hispanic Down Responses')\n",
    "plt.axis('off');"
   ]
  },
  {
   "cell_type": "markdown",
   "id": "56d6fbb5",
   "metadata": {},
   "source": [
    "### E) Deriving the proportion of answers for Non-Hispanic respondents for Mental Health Questions"
   ]
  },
  {
   "cell_type": "code",
   "execution_count": 49,
   "id": "ed30d368",
   "metadata": {},
   "outputs": [
    {
     "data": {
      "text/plain": [
       "ANXIOUS\n",
       "2.0        358\n",
       "1.0        301\n",
       "4.0        177\n",
       "3.0        128\n",
       "dtype: int64"
      ]
     },
     "execution_count": 49,
     "metadata": {},
     "output_type": "execute_result"
    }
   ],
   "source": [
    "#Now repeating this process for non-hispanic respondents \n",
    "#The first step was to gain numeric values for the distribution of non-hispanic respondents responses for the Anxious question \n",
    "\n",
    "dfWinter[(dfWinter.RHISPANIC == 1)][['ANXIOUS']].value_counts()"
   ]
  },
  {
   "cell_type": "code",
   "execution_count": 50,
   "id": "f865eca5",
   "metadata": {},
   "outputs": [
    {
     "data": {
      "text/plain": [
       "ANXIOUS    964\n",
       "dtype: int64"
      ]
     },
     "execution_count": 50,
     "metadata": {},
     "output_type": "execute_result"
    }
   ],
   "source": [
    "#Now extract the value of all non-hispanic respondents who answered the Anxious question \n",
    "\n",
    "dfWinter[(dfWinter.RHISPANIC == 1)][['ANXIOUS']].count()"
   ]
  },
  {
   "cell_type": "code",
   "execution_count": 51,
   "id": "06ff922a",
   "metadata": {},
   "outputs": [
    {
     "data": {
      "text/plain": [
       "WORRY    964\n",
       "dtype: int64"
      ]
     },
     "execution_count": 51,
     "metadata": {},
     "output_type": "execute_result"
    }
   ],
   "source": [
    "#Now extract the value of all non-hispanic respondents who answered the Worry question \n",
    "\n",
    "dfWinter[(dfWinter.RHISPANIC == 1)][['WORRY']].count()"
   ]
  },
  {
   "cell_type": "code",
   "execution_count": 52,
   "id": "57bcd09b",
   "metadata": {},
   "outputs": [
    {
     "data": {
      "text/plain": [
       "DOWN    963\n",
       "dtype: int64"
      ]
     },
     "execution_count": 52,
     "metadata": {},
     "output_type": "execute_result"
    }
   ],
   "source": [
    "#Now extract the value of all non-hispanic respondents who answered the Down question \n",
    "\n",
    "dfWinter[(dfWinter.RHISPANIC == 1)][['DOWN']].count()"
   ]
  },
  {
   "cell_type": "code",
   "execution_count": 53,
   "id": "d15ccfd3",
   "metadata": {},
   "outputs": [],
   "source": [
    "#Create a comand which can divide any number by the total amount of non-hispanic respondents who responded to both the Anxious and Worry question\n",
    "\n",
    "def proportion_2(x):\n",
    "    return x / 964"
   ]
  },
  {
   "cell_type": "code",
   "execution_count": 54,
   "id": "06697377",
   "metadata": {},
   "outputs": [],
   "source": [
    "#Create a comand which can divide any number by the total amount of non-hispanic respondents who responded to the Down question \n",
    "\n",
    "def proportion_3(x):    \n",
    "    return x / 963"
   ]
  },
  {
   "cell_type": "code",
   "execution_count": 55,
   "id": "c0b4f0fe",
   "metadata": {},
   "outputs": [
    {
     "data": {
      "text/plain": [
       "ANXIOUS\n",
       "2.0        0.371369\n",
       "1.0        0.312241\n",
       "4.0        0.183610\n",
       "3.0        0.132780\n",
       "dtype: float64"
      ]
     },
     "execution_count": 55,
     "metadata": {},
     "output_type": "execute_result"
    }
   ],
   "source": [
    "#Utilize the command to derive the proportion of non-hispanic respondents who entered each type of response for the Anxious question\n",
    "\n",
    "dfproportionA_2 = dfWinter[(dfWinter.RHISPANIC == 1)][['ANXIOUS']].value_counts().apply(proportion_2) \n",
    "dfproportionA_2"
   ]
  },
  {
   "cell_type": "code",
   "execution_count": 56,
   "id": "ac589834",
   "metadata": {},
   "outputs": [
    {
     "data": {
      "text/plain": [
       "WORRY\n",
       "1.0      414\n",
       "2.0      325\n",
       "4.0      117\n",
       "3.0      108\n",
       "dtype: int64"
      ]
     },
     "execution_count": 56,
     "metadata": {},
     "output_type": "execute_result"
    }
   ],
   "source": [
    "#Derive numeric values of the distribution of answers for the Worry question by non-hispanic respondents \n",
    "\n",
    "dfWinter[(dfWinter.RHISPANIC == 1)][['WORRY']].value_counts()"
   ]
  },
  {
   "cell_type": "code",
   "execution_count": 57,
   "id": "333ba566",
   "metadata": {},
   "outputs": [
    {
     "data": {
      "text/plain": [
       "WORRY\n",
       "1.0      0.429461\n",
       "2.0      0.337137\n",
       "4.0      0.121369\n",
       "3.0      0.112033\n",
       "dtype: float64"
      ]
     },
     "execution_count": 57,
     "metadata": {},
     "output_type": "execute_result"
    }
   ],
   "source": [
    "#Utilize the command to derive the proportion of non-hispanic respondents who entered each type of response for the Worry question\n",
    "\n",
    "dfproportionW_2 = dfWinter[(dfWinter.RHISPANIC == 1)][['WORRY']].value_counts().apply(proportion_2) \n",
    "dfproportionW_2"
   ]
  },
  {
   "cell_type": "code",
   "execution_count": 58,
   "id": "c7db3db7",
   "metadata": {},
   "outputs": [
    {
     "data": {
      "text/plain": [
       "DOWN\n",
       "1.0     465\n",
       "2.0     310\n",
       "3.0     100\n",
       "4.0      88\n",
       "dtype: int64"
      ]
     },
     "execution_count": 58,
     "metadata": {},
     "output_type": "execute_result"
    }
   ],
   "source": [
    "#Derive numeric values of the distribution of answers for the Down question by non-hispanic respondents \n",
    "\n",
    "dfWinter[(dfWinter.RHISPANIC == 1)][['DOWN']].value_counts()"
   ]
  },
  {
   "cell_type": "code",
   "execution_count": 59,
   "id": "9189084b",
   "metadata": {},
   "outputs": [
    {
     "data": {
      "text/plain": [
       "DOWN\n",
       "1.0     0.482866\n",
       "2.0     0.321911\n",
       "3.0     0.103842\n",
       "4.0     0.091381\n",
       "dtype: float64"
      ]
     },
     "execution_count": 59,
     "metadata": {},
     "output_type": "execute_result"
    }
   ],
   "source": [
    "#Utilize the command to derive the proportion of non-hispanic respondents who entered each type of response for the Down question\n",
    "\n",
    "dfproportionD_2 = dfWinter[(dfWinter.RHISPANIC == 1)][['DOWN']].value_counts().apply(proportion_3) \n",
    "dfproportionD_2"
   ]
  },
  {
   "cell_type": "markdown",
   "id": "42381b59",
   "metadata": {},
   "source": [
    "### F) Creating Visualizations for the proportion of answers for non-hispanic respondents"
   ]
  },
  {
   "cell_type": "code",
   "execution_count": 60,
   "id": "a5a18bed",
   "metadata": {},
   "outputs": [
    {
     "data": {
      "image/png": "[encoded data removed]",
      "text/plain": [
       "<Figure size 360x360 with 1 Axes>"
      ]
     },
     "metadata": {},
     "output_type": "display_data"
    }
   ],
   "source": [
    "#Create a pie chart in order to visualize the proportion of non-hispanics which entered each response for the Anxiety Question \n",
    "\n",
    "dfproportionA_2.plot.pie(labels=['Several Days', 'Not at all','Nearly every day', 'More than half the days'], colors=['pink', 'lightblue', 'yellow', 'lightgreen'],\n",
    "                 autopct='%.2f', fontsize=12, figsize=(5, 5));\n",
    "plt.title('Proportion of Non-Hispanic Anxiety Responses')\n",
    "plt.axis('off');"
   ]
  },
  {
   "cell_type": "code",
   "execution_count": 61,
   "id": "bd7194e4",
   "metadata": {},
   "outputs": [
    {
     "data": {
      "image/png": "[encoded data removed]",
      "text/plain": [
       "<Figure size 360x360 with 1 Axes>"
      ]
     },
     "metadata": {},
     "output_type": "display_data"
    }
   ],
   "source": [
    "#Create a pie chart in order to visualize the proportion of non-hispanics which entered each response for the Worry Question \n",
    "\n",
    "dfproportionW_2.plot.pie(labels=['Not at all', 'Several days','Nearly every day', 'More than half the days'], colors=['lightblue', 'pink', 'yellow', 'lightgreen'],\n",
    "                 autopct='%.2f', fontsize=12, figsize=(5, 5));\n",
    "plt.title('Proportion of Non-Hispanic Worry Responses')\n",
    "plt.axis('off');"
   ]
  },
  {
   "cell_type": "code",
   "execution_count": 62,
   "id": "13bc71fe",
   "metadata": {},
   "outputs": [
    {
     "data": {
      "image/png": "[encoded data removed]",
      "text/plain": [
       "<Figure size 360x360 with 1 Axes>"
      ]
     },
     "metadata": {},
     "output_type": "display_data"
    }
   ],
   "source": [
    "#Create a pie chart in order to visualize the proportion of non-hispanics which entered each response for the Down Question \n",
    "\n",
    "dfproportionD_2.plot.pie(labels=['Not at all', 'Several days','More than half the days', 'Nearly every day'], colors=['lightblue', 'pink', 'lightgreen', 'yellow'],\n",
    "                 autopct='%.2f', fontsize=12, figsize=(5, 5));\n",
    "plt.title('Proportion of Non-Hispanic Down Responses')\n",
    "plt.axis('off');"
   ]
  },
  {
   "cell_type": "markdown",
   "id": "7c5e5a33",
   "metadata": {},
   "source": [
    "### G) Deriving the average answers for Hispanic and Non-Hispanic respondents on mental health questions"
   ]
  },
  {
   "cell_type": "code",
   "execution_count": 63,
   "id": "8905d96b",
   "metadata": {},
   "outputs": [
    {
     "data": {
      "text/html": [
       "<div>\n",
       "<style scoped>\n",
       "    .dataframe tbody tr th:only-of-type {\n",
       "        vertical-align: middle;\n",
       "    }\n",
       "\n",
       "    .dataframe tbody tr th {\n",
       "        vertical-align: top;\n",
       "    }\n",
       "\n",
       "    .dataframe thead th {\n",
       "        text-align: right;\n",
       "    }\n",
       "</style>\n",
       "<table border=\"1\" class=\"dataframe\">\n",
       "  <thead>\n",
       "    <tr style=\"text-align: right;\">\n",
       "      <th></th>\n",
       "      <th>ANXIOUS</th>\n",
       "      <th>WORRY</th>\n",
       "      <th>DOWN</th>\n",
       "    </tr>\n",
       "    <tr>\n",
       "      <th>RHISPANIC</th>\n",
       "      <th></th>\n",
       "      <th></th>\n",
       "      <th></th>\n",
       "    </tr>\n",
       "  </thead>\n",
       "  <tbody>\n",
       "    <tr>\n",
       "      <th>1</th>\n",
       "      <td>2.187759</td>\n",
       "      <td>1.925311</td>\n",
       "      <td>1.803738</td>\n",
       "    </tr>\n",
       "    <tr>\n",
       "      <th>2</th>\n",
       "      <td>2.224490</td>\n",
       "      <td>2.112245</td>\n",
       "      <td>1.938776</td>\n",
       "    </tr>\n",
       "  </tbody>\n",
       "</table>\n",
       "</div>"
      ],
      "text/plain": [
       "            ANXIOUS     WORRY      DOWN\n",
       "RHISPANIC                              \n",
       "1          2.187759  1.925311  1.803738\n",
       "2          2.224490  2.112245  1.938776"
      ]
     },
     "execution_count": 63,
     "metadata": {},
     "output_type": "execute_result"
    }
   ],
   "source": [
    "#Create a chart to see the average answers for each mental health question by hispanics and non-hispanics\n",
    "#1 = non-hispanics\n",
    "#2 = hispanics\n",
    "\n",
    "dfWinter.groupby('RHISPANIC')[['ANXIOUS','WORRY','DOWN']].mean()"
   ]
  },
  {
   "cell_type": "code",
   "execution_count": 64,
   "id": "93f93b30",
   "metadata": {},
   "outputs": [
    {
     "data": {
      "text/plain": [
       "(1.78, 2.3)"
      ]
     },
     "execution_count": 64,
     "metadata": {},
     "output_type": "execute_result"
    },
    {
     "data": {
      "image/png": "[encoded data removed]",
      "text/plain": [
       "<Figure size 432x288 with 1 Axes>"
      ]
     },
     "metadata": {
      "needs_background": "light"
     },
     "output_type": "display_data"
    }
   ],
   "source": [
    "#Create a bar chart to visualize the average answers for each mental health question by hispanics and non-hispanics\n",
    "#1 = non-hispanics\n",
    "#2 = hispanics\n",
    "\n",
    "avgMentalHealth = dfWinter.groupby('RHISPANIC')[['ANXIOUS','WORRY','DOWN']].mean()\n",
    "avgMentalHealth.plot.bar(rot = 5, alpha = 1);\n",
    "plt.ylim([1.78,2.3])"
   ]
  },
  {
   "cell_type": "markdown",
   "id": "668d4348",
   "metadata": {},
   "source": [
    "### H) Running an ANOVA analysis to see the difference in means between Hispanic and Non-Hispanic responses"
   ]
  },
  {
   "cell_type": "code",
   "execution_count": 65,
   "id": "9994d771",
   "metadata": {},
   "outputs": [],
   "source": [
    "import statsmodels.api as sm\n",
    "from statsmodels.formula.api import ols"
   ]
  },
  {
   "cell_type": "code",
   "execution_count": 66,
   "id": "b312aaf6",
   "metadata": {},
   "outputs": [
    {
     "name": "stdout",
     "output_type": "stream",
     "text": [
      "                sum_sq      df         F    PR(>F)\n",
      "RHISPANIC     0.120014     1.0  0.106005  0.744803\n",
      "Residual   1200.076785  1060.0       NaN       NaN\n"
     ]
    }
   ],
   "source": [
    "#Now I will utilize an ANOVA test to see if there is a statistical significance in the difference of average Anxiety scores for Hispanics and non-Hispanics\n",
    "\n",
    "mod = ols('ANXIOUS ~ RHISPANIC', data = dfWinter).fit()\n",
    "aov_table = sm.stats.anova_lm(mod, typ=2)\n",
    "print(aov_table)"
   ]
  },
  {
   "cell_type": "code",
   "execution_count": 67,
   "id": "3cf3fba5",
   "metadata": {},
   "outputs": [
    {
     "name": "stdout",
     "output_type": "stream",
     "text": [
      "                sum_sq      df         F    PR(>F)\n",
      "RHISPANIC     3.108521     1.0  3.016358  0.082719\n",
      "Residual   1092.387713  1060.0       NaN       NaN\n"
     ]
    }
   ],
   "source": [
    "#another ANOVA test to see if there is a statistical significance in the difference of average Worry scores for Hispanics and non-Hispanics\n",
    "\n",
    "mod_2 = ols('WORRY ~ RHISPANIC', data = dfWinter).fit()\n",
    "aov_table_2 = sm.stats.anova_lm(mod_2, typ=2)\n",
    "print(aov_table_2)"
   ]
  },
  {
   "cell_type": "code",
   "execution_count": 68,
   "id": "e9fb4637",
   "metadata": {},
   "outputs": [
    {
     "name": "stdout",
     "output_type": "stream",
     "text": [
      "               sum_sq      df         F    PR(>F)\n",
      "RHISPANIC    1.621974     1.0  1.771635  0.183466\n",
      "Residual   969.539195  1059.0       NaN       NaN\n"
     ]
    }
   ],
   "source": [
    "#another ANOVA test to see if there is a statistical significance in the difference of average Down scores for Hispanics and non-Hispanics\n",
    "\n",
    "mod_3 = ols('DOWN ~ RHISPANIC', data = dfWinter).fit()\n",
    "aov_table_3 = sm.stats.anova_lm(mod_3, typ=2)\n",
    "print(aov_table_3)"
   ]
  },
  {
   "cell_type": "markdown",
   "id": "1a7d9d8d",
   "metadata": {},
   "source": [
    "## Insights \n",
    "\n",
    "There is a lot of results pointing towards the fact that the hispanic population of New Jersey answered that they had worst mental health conditions than the non-hispanic population of New Jersey. The proportions show us that for two of the mental health measures, worry and down, the highest proportion of non-hispanic respondents said they didn't feel this way at all more than any other answer. Meanwhile for all three measures of mental health the hispanic respondents, for the majority, said that they felt those types of feelings for several days more than any other choice that was available. After further analysis utilizing averages I found that hispanic respondents ranked much higher for worry and down while ranking similarily for anxiety. Lastly I ran an ANOVA analysis and found that at a confidence level of 90% there was a statistically significant difference between the means for worry rankings for Hispanic respondents and worry rankings for non-hispanic respondents. "
   ]
  },
  {
   "cell_type": "markdown",
   "id": "9d864e13",
   "metadata": {},
   "source": [
    "## Part 4: Regression analysis with being Hispanic and Mental Health Rankings\n",
    "\n",
    "<img src=\"https://www.chla.org/sites/default/files/thumbnails/image/CHLA-What-You-Should-Know-Covid-19-1200x628-02.png\" style = \"float:middle; width:450px; height:280px;\"/>"
   ]
  },
  {
   "cell_type": "markdown",
   "id": "520f685d",
   "metadata": {},
   "source": [
    "### A) Regression for being Hispanic vs. Anxiety"
   ]
  },
  {
   "cell_type": "code",
   "execution_count": 69,
   "id": "dfdda4ab",
   "metadata": {},
   "outputs": [],
   "source": [
    "import pandas as pd\n",
    "import numpy as np\n",
    "\n",
    "import matplotlib.pylab as plt\n",
    "%matplotlib inline \n",
    "plt.style.use('seaborn-whitegrid')\n",
    "plt.rc('text', usetex = False)\n",
    "plt.rc('font', family = 'serif')\n",
    "plt.rc('xtick', labelsize = 10) \n",
    "plt.rc('ytick', labelsize = 10) \n",
    "plt.rc('font', size = 12) \n",
    "plt.rc('figure', figsize = (12, 5))\n",
    "\n",
    "import seaborn as sns\n",
    "sns.set_style(\"whitegrid\")\n",
    "sns.set_context(\"notebook\", font_scale=1, rc={\"lines.linewidth\": 2,'font.family': [u'times']})"
   ]
  },
  {
   "cell_type": "code",
   "execution_count": 70,
   "id": "f7c8cd6d",
   "metadata": {},
   "outputs": [
    {
     "name": "stdout",
     "output_type": "stream",
     "text": [
      "SCRAM           0\n",
      "WEEK            0\n",
      "EST_ST          0\n",
      "EST_MSA       146\n",
      "REGION          0\n",
      "             ... \n",
      "PSWHYCHG6    1248\n",
      "PSWHYCHG7    1244\n",
      "PSWHYCHG8    1237\n",
      "PSWHYCHG9    1271\n",
      "INCOME        316\n",
      "Length: 188, dtype: int64\n",
      "(1286, 188)\n"
     ]
    }
   ],
   "source": [
    "#Before running any machine learning need to see if the data contains null values \n",
    "\n",
    "print(dfWinter.isnull().sum())\n",
    "print(dfWinter.shape)"
   ]
  },
  {
   "cell_type": "code",
   "execution_count": 71,
   "id": "4450ac01",
   "metadata": {},
   "outputs": [],
   "source": [
    "#In order to avoid the null values create a dataframe with only rows that contain answers to the Anxious question \n",
    "\n",
    "df_ML = dfWinter[dfWinter['ANXIOUS'].notna()]"
   ]
  },
  {
   "cell_type": "code",
   "execution_count": 72,
   "id": "133b3078",
   "metadata": {},
   "outputs": [],
   "source": [
    "import sklearn.linear_model as sklm\n",
    "from sklearn import metrics\n",
    "from sklearn.model_selection import train_test_split"
   ]
  },
  {
   "cell_type": "code",
   "execution_count": 73,
   "id": "c2a1917f",
   "metadata": {},
   "outputs": [
    {
     "data": {
      "text/plain": [
       "(1062,)"
      ]
     },
     "execution_count": 73,
     "metadata": {},
     "output_type": "execute_result"
    }
   ],
   "source": [
    "#To start the regression analysis process I need the shape of the Anxiety column to run my analysis\n",
    "\n",
    "df_ML.RHISPANIC.shape"
   ]
  },
  {
   "cell_type": "code",
   "execution_count": 74,
   "id": "abf0e1b9",
   "metadata": {},
   "outputs": [
    {
     "data": {
      "text/plain": [
       "LinearRegression()"
      ]
     },
     "execution_count": 74,
     "metadata": {},
     "output_type": "execute_result"
    }
   ],
   "source": [
    "#Next I seperate the data for analysis\n",
    "\n",
    "X = df_ML.RHISPANIC.values.reshape(1062,1) \n",
    "Y = df_ML.ANXIOUS\n",
    "\n",
    "RHISPANIC_reg=sklm.LinearRegression() \n",
    "\n",
    "\n",
    "X_train, X_test, Y_train, Y_test = train_test_split(X, Y, test_size=0.4, random_state=42)\n",
    "X_val, X_test, Y_val, Y_test = train_test_split(X_test, Y_test, test_size=0.5, random_state=42)\n",
    "\n",
    "RHISPANIC_reg.fit(X_train, Y_train)"
   ]
  },
  {
   "cell_type": "code",
   "execution_count": 75,
   "id": "b9ed9f6e",
   "metadata": {},
   "outputs": [
    {
     "name": "stdout",
     "output_type": "stream",
     "text": [
      "Intercept: 2.0903523974581164\n",
      "Beta 1: [0.08815713]\n"
     ]
    }
   ],
   "source": [
    "#Extract my intercept and Anxious coefficient\n",
    "\n",
    "print('Intercept:', RHISPANIC_reg.intercept_)\n",
    "print('Beta 1:', RHISPANIC_reg.coef_)"
   ]
  },
  {
   "cell_type": "code",
   "execution_count": 76,
   "id": "03baf439",
   "metadata": {},
   "outputs": [],
   "source": [
    "Y_predict = RHISPANIC_reg.predict(X_test)"
   ]
  },
  {
   "cell_type": "code",
   "execution_count": 77,
   "id": "0795944d",
   "metadata": {},
   "outputs": [
    {
     "name": "stdout",
     "output_type": "stream",
     "text": [
      "Mean Absolute Error: 0.8734970965790896\n",
      "Mean Squared Error (MSE): 1.142714249285792\n",
      "Root Mean Squared Error: 1.0689781332121775\n",
      "R-Squared: -0.0007296987964153789\n"
     ]
    }
   ],
   "source": [
    "#Get important relationship statistics\n",
    "\n",
    "print('Mean Absolute Error:', metrics.mean_absolute_error(Y_test, Y_predict))\n",
    "print('Mean Squared Error (MSE):', metrics.mean_squared_error(Y_test, Y_predict))\n",
    "print('Root Mean Squared Error:', np.sqrt(metrics.mean_squared_error(Y_test, Y_predict)))\n",
    "print(\"R-Squared:\", metrics.r2_score(Y_test, Y_predict))"
   ]
  },
  {
   "cell_type": "code",
   "execution_count": 78,
   "id": "d69a8e25",
   "metadata": {},
   "outputs": [],
   "source": [
    "import statsmodels.api as sm\n",
    "import statsmodels.formula.api as smf"
   ]
  },
  {
   "cell_type": "code",
   "execution_count": 79,
   "id": "b31cf1e8",
   "metadata": {},
   "outputs": [
    {
     "data": {
      "text/html": [
       "<table class=\"simpletable\">\n",
       "<caption>OLS Regression Results</caption>\n",
       "<tr>\n",
       "  <th>Dep. Variable:</th>         <td>ANXIOUS</td>     <th>  R-squared:         </th> <td>   0.000</td>\n",
       "</tr>\n",
       "<tr>\n",
       "  <th>Model:</th>                   <td>OLS</td>       <th>  Adj. R-squared:    </th> <td>  -0.001</td>\n",
       "</tr>\n",
       "<tr>\n",
       "  <th>Method:</th>             <td>Least Squares</td>  <th>  F-statistic:       </th> <td>  0.1060</td>\n",
       "</tr>\n",
       "<tr>\n",
       "  <th>Date:</th>             <td>Sun, 12 Dec 2021</td> <th>  Prob (F-statistic):</th>  <td> 0.745</td> \n",
       "</tr>\n",
       "<tr>\n",
       "  <th>Time:</th>                 <td>01:21:28</td>     <th>  Log-Likelihood:    </th> <td> -1571.8</td>\n",
       "</tr>\n",
       "<tr>\n",
       "  <th>No. Observations:</th>      <td>  1062</td>      <th>  AIC:               </th> <td>   3148.</td>\n",
       "</tr>\n",
       "<tr>\n",
       "  <th>Df Residuals:</th>          <td>  1060</td>      <th>  BIC:               </th> <td>   3158.</td>\n",
       "</tr>\n",
       "<tr>\n",
       "  <th>Df Model:</th>              <td>     1</td>      <th>                     </th>     <td> </td>   \n",
       "</tr>\n",
       "<tr>\n",
       "  <th>Covariance Type:</th>      <td>nonrobust</td>    <th>                     </th>     <td> </td>   \n",
       "</tr>\n",
       "</table>\n",
       "<table class=\"simpletable\">\n",
       "<tr>\n",
       "      <td></td>         <th>coef</th>     <th>std err</th>      <th>t</th>      <th>P>|t|</th>  <th>[0.025</th>    <th>0.975]</th>  \n",
       "</tr>\n",
       "<tr>\n",
       "  <th>Intercept</th> <td>    2.1510</td> <td>    0.127</td> <td>   16.874</td> <td> 0.000</td> <td>    1.901</td> <td>    2.401</td>\n",
       "</tr>\n",
       "<tr>\n",
       "  <th>RHISPANIC</th> <td>    0.0367</td> <td>    0.113</td> <td>    0.326</td> <td> 0.745</td> <td>   -0.185</td> <td>    0.258</td>\n",
       "</tr>\n",
       "</table>\n",
       "<table class=\"simpletable\">\n",
       "<tr>\n",
       "  <th>Omnibus:</th>       <td>222.415</td> <th>  Durbin-Watson:     </th> <td>   1.961</td>\n",
       "</tr>\n",
       "<tr>\n",
       "  <th>Prob(Omnibus):</th> <td> 0.000</td>  <th>  Jarque-Bera (JB):  </th> <td>  87.688</td>\n",
       "</tr>\n",
       "<tr>\n",
       "  <th>Skew:</th>          <td> 0.518</td>  <th>  Prob(JB):          </th> <td>9.09e-20</td>\n",
       "</tr>\n",
       "<tr>\n",
       "  <th>Kurtosis:</th>      <td> 2.047</td>  <th>  Cond. No.          </th> <td>    7.74</td>\n",
       "</tr>\n",
       "</table><br/><br/>Notes:<br/>[1] Standard Errors assume that the covariance matrix of the errors is correctly specified."
      ],
      "text/plain": [
       "<class 'statsmodels.iolib.summary.Summary'>\n",
       "\"\"\"\n",
       "                            OLS Regression Results                            \n",
       "==============================================================================\n",
       "Dep. Variable:                ANXIOUS   R-squared:                       0.000\n",
       "Model:                            OLS   Adj. R-squared:                 -0.001\n",
       "Method:                 Least Squares   F-statistic:                    0.1060\n",
       "Date:                Sun, 12 Dec 2021   Prob (F-statistic):              0.745\n",
       "Time:                        01:21:28   Log-Likelihood:                -1571.8\n",
       "No. Observations:                1062   AIC:                             3148.\n",
       "Df Residuals:                    1060   BIC:                             3158.\n",
       "Df Model:                           1                                         \n",
       "Covariance Type:            nonrobust                                         \n",
       "==============================================================================\n",
       "                 coef    std err          t      P>|t|      [0.025      0.975]\n",
       "------------------------------------------------------------------------------\n",
       "Intercept      2.1510      0.127     16.874      0.000       1.901       2.401\n",
       "RHISPANIC      0.0367      0.113      0.326      0.745      -0.185       0.258\n",
       "==============================================================================\n",
       "Omnibus:                      222.415   Durbin-Watson:                   1.961\n",
       "Prob(Omnibus):                  0.000   Jarque-Bera (JB):               87.688\n",
       "Skew:                           0.518   Prob(JB):                     9.09e-20\n",
       "Kurtosis:                       2.047   Cond. No.                         7.74\n",
       "==============================================================================\n",
       "\n",
       "Notes:\n",
       "[1] Standard Errors assume that the covariance matrix of the errors is correctly specified.\n",
       "\"\"\""
      ]
     },
     "execution_count": 79,
     "metadata": {},
     "output_type": "execute_result"
    }
   ],
   "source": [
    "#Input the explanatory model to see my results of how being hispanic corrolates to anxiety\n",
    "\n",
    "formula='ANXIOUS ~ RHISPANIC'\n",
    "model = smf.ols(formula, data=df_ML) \n",
    "tv_reg = model.fit()\n",
    "tv_reg.summary()"
   ]
  },
  {
   "cell_type": "markdown",
   "id": "5c7f2b33",
   "metadata": {},
   "source": [
    "### B) Running a Regression for Being Hispanic vs Feeling Worried"
   ]
  },
  {
   "cell_type": "code",
   "execution_count": 80,
   "id": "a4b1b9c1",
   "metadata": {},
   "outputs": [],
   "source": [
    "#Next I create a dataframe that only has rows with non null values for the worry question\n",
    "\n",
    "df_ML_2 = dfWinter[dfWinter['WORRY'].notna()]"
   ]
  },
  {
   "cell_type": "code",
   "execution_count": 81,
   "id": "4c18224a",
   "metadata": {},
   "outputs": [
    {
     "data": {
      "text/plain": [
       "(1062,)"
      ]
     },
     "execution_count": 81,
     "metadata": {},
     "output_type": "execute_result"
    }
   ],
   "source": [
    "#First I need the shape of the worry column to run my analysis\n",
    "\n",
    "df_ML_2.RHISPANIC.shape"
   ]
  },
  {
   "cell_type": "code",
   "execution_count": 82,
   "id": "d8792ebb",
   "metadata": {},
   "outputs": [
    {
     "data": {
      "text/plain": [
       "LinearRegression()"
      ]
     },
     "execution_count": 82,
     "metadata": {},
     "output_type": "execute_result"
    }
   ],
   "source": [
    "#Next I seperate the data for analysis\n",
    "\n",
    "X = df_ML_2.RHISPANIC.values.reshape(1062,1) \n",
    "Y = df_ML_2.WORRY\n",
    "\n",
    "RHISPANIC_reg=sklm.LinearRegression() \n",
    "\n",
    "\n",
    "X_train, X_test, Y_train, Y_test = train_test_split(X, Y, test_size=0.4, random_state=42)\n",
    "X_val, X_test, Y_val, Y_test = train_test_split(X_test, Y_test, test_size=0.5, random_state=42)\n",
    "\n",
    "RHISPANIC_reg.fit(X_train, Y_train)"
   ]
  },
  {
   "cell_type": "code",
   "execution_count": 83,
   "id": "b770165d",
   "metadata": {},
   "outputs": [
    {
     "name": "stdout",
     "output_type": "stream",
     "text": [
      "Intercept: 1.8088570127504553\n",
      "Beta 1: [0.15294854]\n"
     ]
    }
   ],
   "source": [
    "#Extract my intercept and Worry coefficient\n",
    "\n",
    "print('Intercept:', RHISPANIC_reg.intercept_)\n",
    "print('Beta 1:', RHISPANIC_reg.coef_)"
   ]
  },
  {
   "cell_type": "code",
   "execution_count": 84,
   "id": "57a87f47",
   "metadata": {},
   "outputs": [
    {
     "data": {
      "text/html": [
       "<table class=\"simpletable\">\n",
       "<caption>OLS Regression Results</caption>\n",
       "<tr>\n",
       "  <th>Dep. Variable:</th>          <td>WORRY</td>      <th>  R-squared:         </th> <td>   0.003</td>\n",
       "</tr>\n",
       "<tr>\n",
       "  <th>Model:</th>                   <td>OLS</td>       <th>  Adj. R-squared:    </th> <td>   0.002</td>\n",
       "</tr>\n",
       "<tr>\n",
       "  <th>Method:</th>             <td>Least Squares</td>  <th>  F-statistic:       </th> <td>   3.016</td>\n",
       "</tr>\n",
       "<tr>\n",
       "  <th>Date:</th>             <td>Sun, 12 Dec 2021</td> <th>  Prob (F-statistic):</th>  <td>0.0827</td> \n",
       "</tr>\n",
       "<tr>\n",
       "  <th>Time:</th>                 <td>01:21:28</td>     <th>  Log-Likelihood:    </th> <td> -1521.9</td>\n",
       "</tr>\n",
       "<tr>\n",
       "  <th>No. Observations:</th>      <td>  1062</td>      <th>  AIC:               </th> <td>   3048.</td>\n",
       "</tr>\n",
       "<tr>\n",
       "  <th>Df Residuals:</th>          <td>  1060</td>      <th>  BIC:               </th> <td>   3058.</td>\n",
       "</tr>\n",
       "<tr>\n",
       "  <th>Df Model:</th>              <td>     1</td>      <th>                     </th>     <td> </td>   \n",
       "</tr>\n",
       "<tr>\n",
       "  <th>Covariance Type:</th>      <td>nonrobust</td>    <th>                     </th>     <td> </td>   \n",
       "</tr>\n",
       "</table>\n",
       "<table class=\"simpletable\">\n",
       "<tr>\n",
       "      <td></td>         <th>coef</th>     <th>std err</th>      <th>t</th>      <th>P>|t|</th>  <th>[0.025</th>    <th>0.975]</th>  \n",
       "</tr>\n",
       "<tr>\n",
       "  <th>Intercept</th> <td>    1.7384</td> <td>    0.122</td> <td>   14.293</td> <td> 0.000</td> <td>    1.500</td> <td>    1.977</td>\n",
       "</tr>\n",
       "<tr>\n",
       "  <th>RHISPANIC</th> <td>    0.1869</td> <td>    0.108</td> <td>    1.737</td> <td> 0.083</td> <td>   -0.024</td> <td>    0.398</td>\n",
       "</tr>\n",
       "</table>\n",
       "<table class=\"simpletable\">\n",
       "<tr>\n",
       "  <th>Omnibus:</th>       <td>109.845</td> <th>  Durbin-Watson:     </th> <td>   1.969</td>\n",
       "</tr>\n",
       "<tr>\n",
       "  <th>Prob(Omnibus):</th> <td> 0.000</td>  <th>  Jarque-Bera (JB):  </th> <td> 131.046</td>\n",
       "</tr>\n",
       "<tr>\n",
       "  <th>Skew:</th>          <td> 0.832</td>  <th>  Prob(JB):          </th> <td>3.50e-29</td>\n",
       "</tr>\n",
       "<tr>\n",
       "  <th>Kurtosis:</th>      <td> 2.560</td>  <th>  Cond. No.          </th> <td>    7.74</td>\n",
       "</tr>\n",
       "</table><br/><br/>Notes:<br/>[1] Standard Errors assume that the covariance matrix of the errors is correctly specified."
      ],
      "text/plain": [
       "<class 'statsmodels.iolib.summary.Summary'>\n",
       "\"\"\"\n",
       "                            OLS Regression Results                            \n",
       "==============================================================================\n",
       "Dep. Variable:                  WORRY   R-squared:                       0.003\n",
       "Model:                            OLS   Adj. R-squared:                  0.002\n",
       "Method:                 Least Squares   F-statistic:                     3.016\n",
       "Date:                Sun, 12 Dec 2021   Prob (F-statistic):             0.0827\n",
       "Time:                        01:21:28   Log-Likelihood:                -1521.9\n",
       "No. Observations:                1062   AIC:                             3048.\n",
       "Df Residuals:                    1060   BIC:                             3058.\n",
       "Df Model:                           1                                         \n",
       "Covariance Type:            nonrobust                                         \n",
       "==============================================================================\n",
       "                 coef    std err          t      P>|t|      [0.025      0.975]\n",
       "------------------------------------------------------------------------------\n",
       "Intercept      1.7384      0.122     14.293      0.000       1.500       1.977\n",
       "RHISPANIC      0.1869      0.108      1.737      0.083      -0.024       0.398\n",
       "==============================================================================\n",
       "Omnibus:                      109.845   Durbin-Watson:                   1.969\n",
       "Prob(Omnibus):                  0.000   Jarque-Bera (JB):              131.046\n",
       "Skew:                           0.832   Prob(JB):                     3.50e-29\n",
       "Kurtosis:                       2.560   Cond. No.                         7.74\n",
       "==============================================================================\n",
       "\n",
       "Notes:\n",
       "[1] Standard Errors assume that the covariance matrix of the errors is correctly specified.\n",
       "\"\"\""
      ]
     },
     "execution_count": 84,
     "metadata": {},
     "output_type": "execute_result"
    }
   ],
   "source": [
    "#Input the explanatory model to see my results for how being hispanic correlates to being worried\n",
    "\n",
    "formula='WORRY ~ RHISPANIC'\n",
    "model = smf.ols(formula, data=df_ML_2) \n",
    "tv_reg = model.fit()\n",
    "tv_reg.summary()"
   ]
  },
  {
   "cell_type": "markdown",
   "id": "8b49c7a3",
   "metadata": {},
   "source": [
    "### C) Running A Regression for Being Hispanic and Feeling Down "
   ]
  },
  {
   "cell_type": "code",
   "execution_count": 85,
   "id": "496db0eb",
   "metadata": {},
   "outputs": [],
   "source": [
    "#Create a datafram that only contains rows where the down question was answered for regression analysis \n",
    "\n",
    "df_ML_3 = dfWinter[dfWinter['DOWN'].notna()]"
   ]
  },
  {
   "cell_type": "code",
   "execution_count": 86,
   "id": "f5b0920e",
   "metadata": {},
   "outputs": [
    {
     "data": {
      "text/plain": [
       "(1061,)"
      ]
     },
     "execution_count": 86,
     "metadata": {},
     "output_type": "execute_result"
    }
   ],
   "source": [
    "#First I need the shape of the down column to run my analysis\n",
    "\n",
    "df_ML_3.RHISPANIC.shape"
   ]
  },
  {
   "cell_type": "code",
   "execution_count": 87,
   "id": "d063acfc",
   "metadata": {},
   "outputs": [
    {
     "data": {
      "text/plain": [
       "LinearRegression()"
      ]
     },
     "execution_count": 87,
     "metadata": {},
     "output_type": "execute_result"
    }
   ],
   "source": [
    "#Next I seperate the data for analysis\n",
    "\n",
    "X = df_ML_3.RHISPANIC.values.reshape(1061,1) \n",
    "Y = df_ML_3.DOWN\n",
    "\n",
    "RHISPANIC_reg=sklm.LinearRegression() \n",
    "\n",
    "\n",
    "X_train, X_test, Y_train, Y_test = train_test_split(X, Y, test_size=0.4, random_state=42)\n",
    "X_val, X_test, Y_val, Y_test = train_test_split(X_test, Y_test, test_size=0.5, random_state=42)\n",
    "\n",
    "RHISPANIC_reg.fit(X_train, Y_train)"
   ]
  },
  {
   "cell_type": "code",
   "execution_count": 88,
   "id": "aef21126",
   "metadata": {},
   "outputs": [
    {
     "data": {
      "text/html": [
       "<table class=\"simpletable\">\n",
       "<caption>OLS Regression Results</caption>\n",
       "<tr>\n",
       "  <th>Dep. Variable:</th>          <td>DOWN</td>       <th>  R-squared:         </th> <td>   0.002</td>\n",
       "</tr>\n",
       "<tr>\n",
       "  <th>Model:</th>                   <td>OLS</td>       <th>  Adj. R-squared:    </th> <td>   0.001</td>\n",
       "</tr>\n",
       "<tr>\n",
       "  <th>Method:</th>             <td>Least Squares</td>  <th>  F-statistic:       </th> <td>   1.772</td>\n",
       "</tr>\n",
       "<tr>\n",
       "  <th>Date:</th>             <td>Sun, 12 Dec 2021</td> <th>  Prob (F-statistic):</th>  <td> 0.183</td> \n",
       "</tr>\n",
       "<tr>\n",
       "  <th>Time:</th>                 <td>01:21:28</td>     <th>  Log-Likelihood:    </th> <td> -1457.7</td>\n",
       "</tr>\n",
       "<tr>\n",
       "  <th>No. Observations:</th>      <td>  1061</td>      <th>  AIC:               </th> <td>   2919.</td>\n",
       "</tr>\n",
       "<tr>\n",
       "  <th>Df Residuals:</th>          <td>  1059</td>      <th>  BIC:               </th> <td>   2929.</td>\n",
       "</tr>\n",
       "<tr>\n",
       "  <th>Df Model:</th>              <td>     1</td>      <th>                     </th>     <td> </td>   \n",
       "</tr>\n",
       "<tr>\n",
       "  <th>Covariance Type:</th>      <td>nonrobust</td>    <th>                     </th>     <td> </td>   \n",
       "</tr>\n",
       "</table>\n",
       "<table class=\"simpletable\">\n",
       "<tr>\n",
       "      <td></td>         <th>coef</th>     <th>std err</th>      <th>t</th>      <th>P>|t|</th>  <th>[0.025</th>    <th>0.975]</th>  \n",
       "</tr>\n",
       "<tr>\n",
       "  <th>Intercept</th> <td>    1.6687</td> <td>    0.115</td> <td>   14.555</td> <td> 0.000</td> <td>    1.444</td> <td>    1.894</td>\n",
       "</tr>\n",
       "<tr>\n",
       "  <th>RHISPANIC</th> <td>    0.1350</td> <td>    0.101</td> <td>    1.331</td> <td> 0.183</td> <td>   -0.064</td> <td>    0.334</td>\n",
       "</tr>\n",
       "</table>\n",
       "<table class=\"simpletable\">\n",
       "<tr>\n",
       "  <th>Omnibus:</th>       <td>130.924</td> <th>  Durbin-Watson:     </th> <td>   1.963</td>\n",
       "</tr>\n",
       "<tr>\n",
       "  <th>Prob(Omnibus):</th> <td> 0.000</td>  <th>  Jarque-Bera (JB):  </th> <td> 182.271</td>\n",
       "</tr>\n",
       "<tr>\n",
       "  <th>Skew:</th>          <td> 1.015</td>  <th>  Prob(JB):          </th> <td>2.63e-40</td>\n",
       "</tr>\n",
       "<tr>\n",
       "  <th>Kurtosis:</th>      <td> 3.031</td>  <th>  Cond. No.          </th> <td>    7.74</td>\n",
       "</tr>\n",
       "</table><br/><br/>Notes:<br/>[1] Standard Errors assume that the covariance matrix of the errors is correctly specified."
      ],
      "text/plain": [
       "<class 'statsmodels.iolib.summary.Summary'>\n",
       "\"\"\"\n",
       "                            OLS Regression Results                            \n",
       "==============================================================================\n",
       "Dep. Variable:                   DOWN   R-squared:                       0.002\n",
       "Model:                            OLS   Adj. R-squared:                  0.001\n",
       "Method:                 Least Squares   F-statistic:                     1.772\n",
       "Date:                Sun, 12 Dec 2021   Prob (F-statistic):              0.183\n",
       "Time:                        01:21:28   Log-Likelihood:                -1457.7\n",
       "No. Observations:                1061   AIC:                             2919.\n",
       "Df Residuals:                    1059   BIC:                             2929.\n",
       "Df Model:                           1                                         \n",
       "Covariance Type:            nonrobust                                         \n",
       "==============================================================================\n",
       "                 coef    std err          t      P>|t|      [0.025      0.975]\n",
       "------------------------------------------------------------------------------\n",
       "Intercept      1.6687      0.115     14.555      0.000       1.444       1.894\n",
       "RHISPANIC      0.1350      0.101      1.331      0.183      -0.064       0.334\n",
       "==============================================================================\n",
       "Omnibus:                      130.924   Durbin-Watson:                   1.963\n",
       "Prob(Omnibus):                  0.000   Jarque-Bera (JB):              182.271\n",
       "Skew:                           1.015   Prob(JB):                     2.63e-40\n",
       "Kurtosis:                       3.031   Cond. No.                         7.74\n",
       "==============================================================================\n",
       "\n",
       "Notes:\n",
       "[1] Standard Errors assume that the covariance matrix of the errors is correctly specified.\n",
       "\"\"\""
      ]
     },
     "execution_count": 88,
     "metadata": {},
     "output_type": "execute_result"
    }
   ],
   "source": [
    "#Input the explanatory model to see my results of how being hispanic correlates to being worried \n",
    "\n",
    "formula='DOWN ~ RHISPANIC'\n",
    "model = smf.ols(formula, data=df_ML_3) \n",
    "tv_reg = model.fit()\n",
    "tv_reg.summary()"
   ]
  },
  {
   "cell_type": "markdown",
   "id": "6a1de424",
   "metadata": {},
   "source": [
    "### D) Running the same Regressions but for the data derived during the Summer time"
   ]
  },
  {
   "cell_type": "code",
   "execution_count": 89,
   "id": "2fa324de",
   "metadata": {},
   "outputs": [],
   "source": [
    "#Now I will repeat the same process but for the summer data \n",
    "#First I will make a datafram which only contains rows from the summer data where the Anxious question was answered \n",
    "\n",
    "df_ML_4 = dfSummer[dfSummer['ANXIOUS'].notna()]"
   ]
  },
  {
   "cell_type": "code",
   "execution_count": 90,
   "id": "1473629a",
   "metadata": {},
   "outputs": [
    {
     "data": {
      "text/plain": [
       "(1017,)"
      ]
     },
     "execution_count": 90,
     "metadata": {},
     "output_type": "execute_result"
    }
   ],
   "source": [
    "#To start the analysis I need the shape of the anxious column \n",
    "\n",
    "df_ML_4.RHISPANIC.shape"
   ]
  },
  {
   "cell_type": "code",
   "execution_count": 91,
   "id": "99164d2b",
   "metadata": {},
   "outputs": [
    {
     "data": {
      "text/plain": [
       "LinearRegression()"
      ]
     },
     "execution_count": 91,
     "metadata": {},
     "output_type": "execute_result"
    }
   ],
   "source": [
    "#Next I seperate the data for analysis\n",
    "\n",
    "X = df_ML_4.RHISPANIC.values.reshape(1017,1) \n",
    "Y = df_ML_4.ANXIOUS\n",
    "\n",
    "RHISPANIC_reg=sklm.LinearRegression() \n",
    "\n",
    "\n",
    "X_train, X_test, Y_train, Y_test = train_test_split(X, Y, test_size=0.4, random_state=42)\n",
    "X_val, X_test, Y_val, Y_test = train_test_split(X_test, Y_test, test_size=0.5, random_state=42)\n",
    "\n",
    "RHISPANIC_reg.fit(X_train, Y_train)"
   ]
  },
  {
   "cell_type": "code",
   "execution_count": 92,
   "id": "2830a580",
   "metadata": {},
   "outputs": [
    {
     "data": {
      "text/html": [
       "<table class=\"simpletable\">\n",
       "<caption>OLS Regression Results</caption>\n",
       "<tr>\n",
       "  <th>Dep. Variable:</th>         <td>ANXIOUS</td>     <th>  R-squared:         </th> <td>   0.003</td>\n",
       "</tr>\n",
       "<tr>\n",
       "  <th>Model:</th>                   <td>OLS</td>       <th>  Adj. R-squared:    </th> <td>   0.002</td>\n",
       "</tr>\n",
       "<tr>\n",
       "  <th>Method:</th>             <td>Least Squares</td>  <th>  F-statistic:       </th> <td>   3.466</td>\n",
       "</tr>\n",
       "<tr>\n",
       "  <th>Date:</th>             <td>Sun, 12 Dec 2021</td> <th>  Prob (F-statistic):</th>  <td>0.0629</td> \n",
       "</tr>\n",
       "<tr>\n",
       "  <th>Time:</th>                 <td>01:21:28</td>     <th>  Log-Likelihood:    </th> <td> -1424.6</td>\n",
       "</tr>\n",
       "<tr>\n",
       "  <th>No. Observations:</th>      <td>  1017</td>      <th>  AIC:               </th> <td>   2853.</td>\n",
       "</tr>\n",
       "<tr>\n",
       "  <th>Df Residuals:</th>          <td>  1015</td>      <th>  BIC:               </th> <td>   2863.</td>\n",
       "</tr>\n",
       "<tr>\n",
       "  <th>Df Model:</th>              <td>     1</td>      <th>                     </th>     <td> </td>   \n",
       "</tr>\n",
       "<tr>\n",
       "  <th>Covariance Type:</th>      <td>nonrobust</td>    <th>                     </th>     <td> </td>   \n",
       "</tr>\n",
       "</table>\n",
       "<table class=\"simpletable\">\n",
       "<tr>\n",
       "      <td></td>         <th>coef</th>     <th>std err</th>      <th>t</th>      <th>P>|t|</th>  <th>[0.025</th>    <th>0.975]</th>  \n",
       "</tr>\n",
       "<tr>\n",
       "  <th>Intercept</th> <td>    1.5265</td> <td>    0.123</td> <td>   12.455</td> <td> 0.000</td> <td>    1.286</td> <td>    1.767</td>\n",
       "</tr>\n",
       "<tr>\n",
       "  <th>RHISPANIC</th> <td>    0.2031</td> <td>    0.109</td> <td>    1.862</td> <td> 0.063</td> <td>   -0.011</td> <td>    0.417</td>\n",
       "</tr>\n",
       "</table>\n",
       "<table class=\"simpletable\">\n",
       "<tr>\n",
       "  <th>Omnibus:</th>       <td>156.940</td> <th>  Durbin-Watson:     </th> <td>   1.967</td>\n",
       "</tr>\n",
       "<tr>\n",
       "  <th>Prob(Omnibus):</th> <td> 0.000</td>  <th>  Jarque-Bera (JB):  </th> <td> 234.813</td>\n",
       "</tr>\n",
       "<tr>\n",
       "  <th>Skew:</th>          <td> 1.171</td>  <th>  Prob(JB):          </th> <td>1.03e-51</td>\n",
       "</tr>\n",
       "<tr>\n",
       "  <th>Kurtosis:</th>      <td> 3.240</td>  <th>  Cond. No.          </th> <td>    7.88</td>\n",
       "</tr>\n",
       "</table><br/><br/>Notes:<br/>[1] Standard Errors assume that the covariance matrix of the errors is correctly specified."
      ],
      "text/plain": [
       "<class 'statsmodels.iolib.summary.Summary'>\n",
       "\"\"\"\n",
       "                            OLS Regression Results                            \n",
       "==============================================================================\n",
       "Dep. Variable:                ANXIOUS   R-squared:                       0.003\n",
       "Model:                            OLS   Adj. R-squared:                  0.002\n",
       "Method:                 Least Squares   F-statistic:                     3.466\n",
       "Date:                Sun, 12 Dec 2021   Prob (F-statistic):             0.0629\n",
       "Time:                        01:21:28   Log-Likelihood:                -1424.6\n",
       "No. Observations:                1017   AIC:                             2853.\n",
       "Df Residuals:                    1015   BIC:                             2863.\n",
       "Df Model:                           1                                         \n",
       "Covariance Type:            nonrobust                                         \n",
       "==============================================================================\n",
       "                 coef    std err          t      P>|t|      [0.025      0.975]\n",
       "------------------------------------------------------------------------------\n",
       "Intercept      1.5265      0.123     12.455      0.000       1.286       1.767\n",
       "RHISPANIC      0.2031      0.109      1.862      0.063      -0.011       0.417\n",
       "==============================================================================\n",
       "Omnibus:                      156.940   Durbin-Watson:                   1.967\n",
       "Prob(Omnibus):                  0.000   Jarque-Bera (JB):              234.813\n",
       "Skew:                           1.171   Prob(JB):                     1.03e-51\n",
       "Kurtosis:                       3.240   Cond. No.                         7.88\n",
       "==============================================================================\n",
       "\n",
       "Notes:\n",
       "[1] Standard Errors assume that the covariance matrix of the errors is correctly specified.\n",
       "\"\"\""
      ]
     },
     "execution_count": 92,
     "metadata": {},
     "output_type": "execute_result"
    }
   ],
   "source": [
    "#Input the explanatory model to see my results of how in the summer being hispanic correlates to anxiety\n",
    "\n",
    "formula='ANXIOUS ~ RHISPANIC'\n",
    "model = smf.ols(formula, data=df_ML_4) \n",
    "tv_reg = model.fit()\n",
    "tv_reg.summary()"
   ]
  },
  {
   "cell_type": "code",
   "execution_count": 93,
   "id": "9854e93e",
   "metadata": {},
   "outputs": [],
   "source": [
    "#Make another datafram which only contains rows that have answers for the worry question for the summer data \n",
    "\n",
    "df_ML_5 = dfSummer[dfSummer['WORRY'].notna()]"
   ]
  },
  {
   "cell_type": "code",
   "execution_count": 94,
   "id": "31bd9d48",
   "metadata": {},
   "outputs": [
    {
     "data": {
      "text/plain": [
       "(1013,)"
      ]
     },
     "execution_count": 94,
     "metadata": {},
     "output_type": "execute_result"
    }
   ],
   "source": [
    "#Need the shape of the column for analysis \n",
    "\n",
    "df_ML_5.RHISPANIC.shape"
   ]
  },
  {
   "cell_type": "code",
   "execution_count": 95,
   "id": "d8dc1414",
   "metadata": {},
   "outputs": [
    {
     "data": {
      "text/plain": [
       "LinearRegression()"
      ]
     },
     "execution_count": 95,
     "metadata": {},
     "output_type": "execute_result"
    }
   ],
   "source": [
    "#Next I seperate the data for analysis\n",
    "\n",
    "X = df_ML_5.RHISPANIC.values.reshape(1013,1) \n",
    "Y = df_ML_5.WORRY\n",
    "\n",
    "RHISPANIC_reg=sklm.LinearRegression() \n",
    "\n",
    "\n",
    "X_train, X_test, Y_train, Y_test = train_test_split(X, Y, test_size=0.4, random_state=42)\n",
    "X_val, X_test, Y_val, Y_test = train_test_split(X_test, Y_test, test_size=0.5, random_state=42)\n",
    "\n",
    "RHISPANIC_reg.fit(X_train, Y_train)"
   ]
  },
  {
   "cell_type": "code",
   "execution_count": 96,
   "id": "aee4d8c3",
   "metadata": {},
   "outputs": [
    {
     "data": {
      "text/html": [
       "<table class=\"simpletable\">\n",
       "<caption>OLS Regression Results</caption>\n",
       "<tr>\n",
       "  <th>Dep. Variable:</th>          <td>WORRY</td>      <th>  R-squared:         </th> <td>   0.011</td>\n",
       "</tr>\n",
       "<tr>\n",
       "  <th>Model:</th>                   <td>OLS</td>       <th>  Adj. R-squared:    </th> <td>   0.010</td>\n",
       "</tr>\n",
       "<tr>\n",
       "  <th>Method:</th>             <td>Least Squares</td>  <th>  F-statistic:       </th> <td>   11.48</td>\n",
       "</tr>\n",
       "<tr>\n",
       "  <th>Date:</th>             <td>Sun, 12 Dec 2021</td> <th>  Prob (F-statistic):</th> <td>0.000731</td>\n",
       "</tr>\n",
       "<tr>\n",
       "  <th>Time:</th>                 <td>01:21:29</td>     <th>  Log-Likelihood:    </th> <td> -1370.1</td>\n",
       "</tr>\n",
       "<tr>\n",
       "  <th>No. Observations:</th>      <td>  1013</td>      <th>  AIC:               </th> <td>   2744.</td>\n",
       "</tr>\n",
       "<tr>\n",
       "  <th>Df Residuals:</th>          <td>  1011</td>      <th>  BIC:               </th> <td>   2754.</td>\n",
       "</tr>\n",
       "<tr>\n",
       "  <th>Df Model:</th>              <td>     1</td>      <th>                     </th>     <td> </td>   \n",
       "</tr>\n",
       "<tr>\n",
       "  <th>Covariance Type:</th>      <td>nonrobust</td>    <th>                     </th>     <td> </td>   \n",
       "</tr>\n",
       "</table>\n",
       "<table class=\"simpletable\">\n",
       "<tr>\n",
       "      <td></td>         <th>coef</th>     <th>std err</th>      <th>t</th>      <th>P>|t|</th>  <th>[0.025</th>    <th>0.975]</th>  \n",
       "</tr>\n",
       "<tr>\n",
       "  <th>Intercept</th> <td>    1.2506</td> <td>    0.117</td> <td>   10.701</td> <td> 0.000</td> <td>    1.021</td> <td>    1.480</td>\n",
       "</tr>\n",
       "<tr>\n",
       "  <th>RHISPANIC</th> <td>    0.3522</td> <td>    0.104</td> <td>    3.388</td> <td> 0.001</td> <td>    0.148</td> <td>    0.556</td>\n",
       "</tr>\n",
       "</table>\n",
       "<table class=\"simpletable\">\n",
       "<tr>\n",
       "  <th>Omnibus:</th>       <td>208.722</td> <th>  Durbin-Watson:     </th> <td>   1.931</td>\n",
       "</tr>\n",
       "<tr>\n",
       "  <th>Prob(Omnibus):</th> <td> 0.000</td>  <th>  Jarque-Bera (JB):  </th> <td> 348.499</td>\n",
       "</tr>\n",
       "<tr>\n",
       "  <th>Skew:</th>          <td> 1.375</td>  <th>  Prob(JB):          </th> <td>2.11e-76</td>\n",
       "</tr>\n",
       "<tr>\n",
       "  <th>Kurtosis:</th>      <td> 3.833</td>  <th>  Cond. No.          </th> <td>    7.87</td>\n",
       "</tr>\n",
       "</table><br/><br/>Notes:<br/>[1] Standard Errors assume that the covariance matrix of the errors is correctly specified."
      ],
      "text/plain": [
       "<class 'statsmodels.iolib.summary.Summary'>\n",
       "\"\"\"\n",
       "                            OLS Regression Results                            \n",
       "==============================================================================\n",
       "Dep. Variable:                  WORRY   R-squared:                       0.011\n",
       "Model:                            OLS   Adj. R-squared:                  0.010\n",
       "Method:                 Least Squares   F-statistic:                     11.48\n",
       "Date:                Sun, 12 Dec 2021   Prob (F-statistic):           0.000731\n",
       "Time:                        01:21:29   Log-Likelihood:                -1370.1\n",
       "No. Observations:                1013   AIC:                             2744.\n",
       "Df Residuals:                    1011   BIC:                             2754.\n",
       "Df Model:                           1                                         \n",
       "Covariance Type:            nonrobust                                         \n",
       "==============================================================================\n",
       "                 coef    std err          t      P>|t|      [0.025      0.975]\n",
       "------------------------------------------------------------------------------\n",
       "Intercept      1.2506      0.117     10.701      0.000       1.021       1.480\n",
       "RHISPANIC      0.3522      0.104      3.388      0.001       0.148       0.556\n",
       "==============================================================================\n",
       "Omnibus:                      208.722   Durbin-Watson:                   1.931\n",
       "Prob(Omnibus):                  0.000   Jarque-Bera (JB):              348.499\n",
       "Skew:                           1.375   Prob(JB):                     2.11e-76\n",
       "Kurtosis:                       3.833   Cond. No.                         7.87\n",
       "==============================================================================\n",
       "\n",
       "Notes:\n",
       "[1] Standard Errors assume that the covariance matrix of the errors is correctly specified.\n",
       "\"\"\""
      ]
     },
     "execution_count": 96,
     "metadata": {},
     "output_type": "execute_result"
    }
   ],
   "source": [
    "#Input the explanatory model to see my results of how during the summer being hispanic correlates with being worried\n",
    "\n",
    "formula='WORRY ~ RHISPANIC'\n",
    "model = smf.ols(formula, data=df_ML_5) \n",
    "tv_reg = model.fit()\n",
    "tv_reg.summary()"
   ]
  },
  {
   "cell_type": "code",
   "execution_count": 97,
   "id": "c0d23cb6",
   "metadata": {},
   "outputs": [],
   "source": [
    "#Create a dataframe of summer data with only rows that contain answers for the Down Question \n",
    "\n",
    "df_ML_6 = dfSummer[dfSummer['DOWN'].notna()]"
   ]
  },
  {
   "cell_type": "code",
   "execution_count": 98,
   "id": "7b3f2b0f",
   "metadata": {},
   "outputs": [
    {
     "data": {
      "text/plain": [
       "(1012,)"
      ]
     },
     "execution_count": 98,
     "metadata": {},
     "output_type": "execute_result"
    }
   ],
   "source": [
    "#Need the shape for analysis \n",
    "\n",
    "df_ML_6.RHISPANIC.shape"
   ]
  },
  {
   "cell_type": "code",
   "execution_count": 99,
   "id": "368ceb8e",
   "metadata": {},
   "outputs": [
    {
     "data": {
      "text/plain": [
       "LinearRegression()"
      ]
     },
     "execution_count": 99,
     "metadata": {},
     "output_type": "execute_result"
    }
   ],
   "source": [
    "#Next I seperate the data for analysis\n",
    "\n",
    "X = df_ML_6.RHISPANIC.values.reshape(1012,1) \n",
    "Y = df_ML_6.DOWN\n",
    "\n",
    "RHISPANIC_reg=sklm.LinearRegression() \n",
    "\n",
    "\n",
    "X_train, X_test, Y_train, Y_test = train_test_split(X, Y, test_size=0.4, random_state=42)\n",
    "X_val, X_test, Y_val, Y_test = train_test_split(X_test, Y_test, test_size=0.5, random_state=42)\n",
    "\n",
    "RHISPANIC_reg.fit(X_train, Y_train)"
   ]
  },
  {
   "cell_type": "code",
   "execution_count": 100,
   "id": "ab7a7a7f",
   "metadata": {},
   "outputs": [
    {
     "data": {
      "text/html": [
       "<table class=\"simpletable\">\n",
       "<caption>OLS Regression Results</caption>\n",
       "<tr>\n",
       "  <th>Dep. Variable:</th>          <td>DOWN</td>       <th>  R-squared:         </th> <td>   0.002</td>\n",
       "</tr>\n",
       "<tr>\n",
       "  <th>Model:</th>                   <td>OLS</td>       <th>  Adj. R-squared:    </th> <td>   0.001</td>\n",
       "</tr>\n",
       "<tr>\n",
       "  <th>Method:</th>             <td>Least Squares</td>  <th>  F-statistic:       </th> <td>   2.456</td>\n",
       "</tr>\n",
       "<tr>\n",
       "  <th>Date:</th>             <td>Sun, 12 Dec 2021</td> <th>  Prob (F-statistic):</th>  <td> 0.117</td> \n",
       "</tr>\n",
       "<tr>\n",
       "  <th>Time:</th>                 <td>01:21:29</td>     <th>  Log-Likelihood:    </th> <td> -1251.1</td>\n",
       "</tr>\n",
       "<tr>\n",
       "  <th>No. Observations:</th>      <td>  1012</td>      <th>  AIC:               </th> <td>   2506.</td>\n",
       "</tr>\n",
       "<tr>\n",
       "  <th>Df Residuals:</th>          <td>  1010</td>      <th>  BIC:               </th> <td>   2516.</td>\n",
       "</tr>\n",
       "<tr>\n",
       "  <th>Df Model:</th>              <td>     1</td>      <th>                     </th>     <td> </td>   \n",
       "</tr>\n",
       "<tr>\n",
       "  <th>Covariance Type:</th>      <td>nonrobust</td>    <th>                     </th>     <td> </td>   \n",
       "</tr>\n",
       "</table>\n",
       "<table class=\"simpletable\">\n",
       "<tr>\n",
       "      <td></td>         <th>coef</th>     <th>std err</th>      <th>t</th>      <th>P>|t|</th>  <th>[0.025</th>    <th>0.975]</th>  \n",
       "</tr>\n",
       "<tr>\n",
       "  <th>Intercept</th> <td>    1.3728</td> <td>    0.104</td> <td>   13.194</td> <td> 0.000</td> <td>    1.169</td> <td>    1.577</td>\n",
       "</tr>\n",
       "<tr>\n",
       "  <th>RHISPANIC</th> <td>    0.1450</td> <td>    0.093</td> <td>    1.567</td> <td> 0.117</td> <td>   -0.037</td> <td>    0.327</td>\n",
       "</tr>\n",
       "</table>\n",
       "<table class=\"simpletable\">\n",
       "<tr>\n",
       "  <th>Omnibus:</th>       <td>293.357</td> <th>  Durbin-Watson:     </th> <td>   1.935</td> \n",
       "</tr>\n",
       "<tr>\n",
       "  <th>Prob(Omnibus):</th> <td> 0.000</td>  <th>  Jarque-Bera (JB):  </th> <td> 630.901</td> \n",
       "</tr>\n",
       "<tr>\n",
       "  <th>Skew:</th>          <td> 1.647</td>  <th>  Prob(JB):          </th> <td>1.00e-137</td>\n",
       "</tr>\n",
       "<tr>\n",
       "  <th>Kurtosis:</th>      <td> 5.028</td>  <th>  Cond. No.          </th> <td>    7.87</td> \n",
       "</tr>\n",
       "</table><br/><br/>Notes:<br/>[1] Standard Errors assume that the covariance matrix of the errors is correctly specified."
      ],
      "text/plain": [
       "<class 'statsmodels.iolib.summary.Summary'>\n",
       "\"\"\"\n",
       "                            OLS Regression Results                            \n",
       "==============================================================================\n",
       "Dep. Variable:                   DOWN   R-squared:                       0.002\n",
       "Model:                            OLS   Adj. R-squared:                  0.001\n",
       "Method:                 Least Squares   F-statistic:                     2.456\n",
       "Date:                Sun, 12 Dec 2021   Prob (F-statistic):              0.117\n",
       "Time:                        01:21:29   Log-Likelihood:                -1251.1\n",
       "No. Observations:                1012   AIC:                             2506.\n",
       "Df Residuals:                    1010   BIC:                             2516.\n",
       "Df Model:                           1                                         \n",
       "Covariance Type:            nonrobust                                         \n",
       "==============================================================================\n",
       "                 coef    std err          t      P>|t|      [0.025      0.975]\n",
       "------------------------------------------------------------------------------\n",
       "Intercept      1.3728      0.104     13.194      0.000       1.169       1.577\n",
       "RHISPANIC      0.1450      0.093      1.567      0.117      -0.037       0.327\n",
       "==============================================================================\n",
       "Omnibus:                      293.357   Durbin-Watson:                   1.935\n",
       "Prob(Omnibus):                  0.000   Jarque-Bera (JB):              630.901\n",
       "Skew:                           1.647   Prob(JB):                    1.00e-137\n",
       "Kurtosis:                       5.028   Cond. No.                         7.87\n",
       "==============================================================================\n",
       "\n",
       "Notes:\n",
       "[1] Standard Errors assume that the covariance matrix of the errors is correctly specified.\n",
       "\"\"\""
      ]
     },
     "execution_count": 100,
     "metadata": {},
     "output_type": "execute_result"
    }
   ],
   "source": [
    "#Input the explanatory model to see my results of how during the summer being hispanic correlates with feeling down \n",
    "\n",
    "formula='DOWN ~ RHISPANIC'\n",
    "model = smf.ols(formula, data=df_ML_6) \n",
    "tv_reg = model.fit()\n",
    "tv_reg.summary()"
   ]
  },
  {
   "cell_type": "markdown",
   "id": "02809186",
   "metadata": {},
   "source": [
    "## Insights\n",
    "\n",
    "After running the regression analysis I have derived some very interesting insights, especially for the difference during the Winter versus during the Summer. It happens to be true that for the data during the winter, being hispanic only has a statistically significant effect on the variance in the rating for Worry and only at a 90% confidence interval. On the other hand for the summer data, being hispanic has a highly statistical significance in predicting the variability in the worry ranking at a 99% confidence interval. Along with this for the summer data being hispanic has a statistical significance in predicting the variability in the Anxious ranking at a 90% confidence interval. This is interesting because the p value for the winter data for the anxiety regression was very high. For all of the regressions the R squared is very low so there are definitley a lot of other factors besides being hispanic which effect these mental health ratings. But the discrepency in the seasons is most likely telling us that during the summer there are less factors that effect mental health than in the winter and being hispanic can be significant in determining these ratings. "
   ]
  },
  {
   "cell_type": "markdown",
   "id": "ce8a7dc3",
   "metadata": {},
   "source": [
    "## Part 5: Ascertaining information on how mental health effects receiving the vaccine\n",
    "\n",
    "<img src=\"https://dph.georgia.gov/sites/dph.georgia.gov/files/styles/3_2_2106px_x_1404px/public/2020-12/gettyimages-1219398943.jpg?h=7a2be935&itok=vnI_TYyh\" style = \"float:middle; width: 400px; height:280px;\"/>\n"
   ]
  },
  {
   "cell_type": "markdown",
   "id": "53f5de3e",
   "metadata": {},
   "source": [
    "### A) Creating a Data frame without null values"
   ]
  },
  {
   "cell_type": "code",
   "execution_count": 101,
   "id": "5c8cb55c",
   "metadata": {},
   "outputs": [],
   "source": [
    "#For my next analysis I had to create a data fram which doesn't contain any null values for recieving the vaccine, anxiety, worry, and down\n",
    "\n",
    "df_ML_7 = dfSummer[dfSummer['RECVDVACC'].notna()]\n",
    "df_ML_8 = df_ML_7[df_ML_7['ANXIOUS'].notna()]\n",
    "df_ML_9 = df_ML_8[df_ML_8['WORRY'].notna()]\n",
    "df_ML_10 = df_ML_9[df_ML_9['DOWN'].notna()]"
   ]
  },
  {
   "cell_type": "markdown",
   "id": "e448b4f1",
   "metadata": {},
   "source": [
    "### B) Splitting the data"
   ]
  },
  {
   "cell_type": "code",
   "execution_count": 102,
   "id": "7a67ba56",
   "metadata": {},
   "outputs": [
    {
     "data": {
      "text/plain": [
       "LinearRegression()"
      ]
     },
     "execution_count": 102,
     "metadata": {},
     "output_type": "execute_result"
    }
   ],
   "source": [
    "#Now I will create a training set, validation set, and test set in order to conduct multivariate regression analysis \n",
    "\n",
    "m_reg=sklm.LinearRegression() \n",
    "\n",
    "X_m = df_ML_10[['ANXIOUS','WORRY','DOWN']]\n",
    "Y_m = df_ML_10.RECVDVACC\n",
    "\n",
    "X_train_m, X_test_m, Y_train_m, Y_test_m = train_test_split(X_m, Y_m, test_size=0.4, random_state=42)\n",
    "X_val_m, X_test_m, Y_val_m, Y_test_m = train_test_split(X_test_m, Y_test_m, test_size=0.5, random_state=42)\n",
    "\n",
    "m_reg.fit(X_train_m, Y_train_m)"
   ]
  },
  {
   "cell_type": "code",
   "execution_count": 103,
   "id": "b925481e",
   "metadata": {},
   "outputs": [
    {
     "name": "stdout",
     "output_type": "stream",
     "text": [
      "(604, 3) (604,)\n",
      "(202, 3) (202,)\n",
      "(202, 3) (202,)\n"
     ]
    }
   ],
   "source": [
    "#I need to check if the data was divided properly\n",
    "\n",
    "print(X_train_m.shape, Y_train_m.shape)\n",
    "print(X_val_m.shape, Y_val_m.shape)\n",
    "print(X_test_m.shape, Y_test_m.shape)"
   ]
  },
  {
   "cell_type": "markdown",
   "id": "46775e9e",
   "metadata": {},
   "source": [
    "### C) Deriving Summary Statistics"
   ]
  },
  {
   "cell_type": "code",
   "execution_count": 104,
   "id": "38c36d85",
   "metadata": {},
   "outputs": [
    {
     "name": "stdout",
     "output_type": "stream",
     "text": [
      "Intercept: 1.0183715573211152\n"
     ]
    },
    {
     "data": {
      "text/html": [
       "<div>\n",
       "<style scoped>\n",
       "    .dataframe tbody tr th:only-of-type {\n",
       "        vertical-align: middle;\n",
       "    }\n",
       "\n",
       "    .dataframe tbody tr th {\n",
       "        vertical-align: top;\n",
       "    }\n",
       "\n",
       "    .dataframe thead th {\n",
       "        text-align: right;\n",
       "    }\n",
       "</style>\n",
       "<table border=\"1\" class=\"dataframe\">\n",
       "  <thead>\n",
       "    <tr style=\"text-align: right;\">\n",
       "      <th></th>\n",
       "      <th>Coefficient</th>\n",
       "    </tr>\n",
       "  </thead>\n",
       "  <tbody>\n",
       "    <tr>\n",
       "      <th>ANXIOUS</th>\n",
       "      <td>-0.025383</td>\n",
       "    </tr>\n",
       "    <tr>\n",
       "      <th>WORRY</th>\n",
       "      <td>0.027784</td>\n",
       "    </tr>\n",
       "    <tr>\n",
       "      <th>DOWN</th>\n",
       "      <td>0.034566</td>\n",
       "    </tr>\n",
       "  </tbody>\n",
       "</table>\n",
       "</div>"
      ],
      "text/plain": [
       "         Coefficient\n",
       "ANXIOUS    -0.025383\n",
       "WORRY       0.027784\n",
       "DOWN        0.034566"
      ]
     },
     "execution_count": 104,
     "metadata": {},
     "output_type": "execute_result"
    }
   ],
   "source": [
    "#Analyze the coefficients of the data set\n",
    "\n",
    "print('Intercept:', m_reg.intercept_)\n",
    "\n",
    "coeff_df = pd.DataFrame(m_reg.coef_, X_m.columns, columns=['Coefficient'])\n",
    "coeff_df"
   ]
  },
  {
   "cell_type": "code",
   "execution_count": 105,
   "id": "f58ddcbc",
   "metadata": {},
   "outputs": [
    {
     "data": {
      "text/html": [
       "<div>\n",
       "<style scoped>\n",
       "    .dataframe tbody tr th:only-of-type {\n",
       "        vertical-align: middle;\n",
       "    }\n",
       "\n",
       "    .dataframe tbody tr th {\n",
       "        vertical-align: top;\n",
       "    }\n",
       "\n",
       "    .dataframe thead th {\n",
       "        text-align: right;\n",
       "    }\n",
       "</style>\n",
       "<table border=\"1\" class=\"dataframe\">\n",
       "  <thead>\n",
       "    <tr style=\"text-align: right;\">\n",
       "      <th></th>\n",
       "      <th>Actual</th>\n",
       "      <th>Predicted</th>\n",
       "    </tr>\n",
       "  </thead>\n",
       "  <tbody>\n",
       "    <tr>\n",
       "      <th>6377</th>\n",
       "      <td>1.0</td>\n",
       "      <td>1.055338</td>\n",
       "    </tr>\n",
       "    <tr>\n",
       "      <th>45272</th>\n",
       "      <td>1.0</td>\n",
       "      <td>1.092304</td>\n",
       "    </tr>\n",
       "    <tr>\n",
       "      <th>53545</th>\n",
       "      <td>2.0</td>\n",
       "      <td>1.055338</td>\n",
       "    </tr>\n",
       "    <tr>\n",
       "      <th>16155</th>\n",
       "      <td>1.0</td>\n",
       "      <td>1.055338</td>\n",
       "    </tr>\n",
       "    <tr>\n",
       "      <th>21533</th>\n",
       "      <td>1.0</td>\n",
       "      <td>1.055338</td>\n",
       "    </tr>\n",
       "    <tr>\n",
       "      <th>...</th>\n",
       "      <td>...</td>\n",
       "      <td>...</td>\n",
       "    </tr>\n",
       "    <tr>\n",
       "      <th>5039</th>\n",
       "      <td>1.0</td>\n",
       "      <td>1.129270</td>\n",
       "    </tr>\n",
       "    <tr>\n",
       "      <th>41961</th>\n",
       "      <td>1.0</td>\n",
       "      <td>1.094704</td>\n",
       "    </tr>\n",
       "    <tr>\n",
       "      <th>18217</th>\n",
       "      <td>1.0</td>\n",
       "      <td>1.055338</td>\n",
       "    </tr>\n",
       "    <tr>\n",
       "      <th>32149</th>\n",
       "      <td>1.0</td>\n",
       "      <td>1.055338</td>\n",
       "    </tr>\n",
       "    <tr>\n",
       "      <th>26772</th>\n",
       "      <td>1.0</td>\n",
       "      <td>1.055338</td>\n",
       "    </tr>\n",
       "  </tbody>\n",
       "</table>\n",
       "<p>202 rows × 2 columns</p>\n",
       "</div>"
      ],
      "text/plain": [
       "       Actual  Predicted\n",
       "6377      1.0   1.055338\n",
       "45272     1.0   1.092304\n",
       "53545     2.0   1.055338\n",
       "16155     1.0   1.055338\n",
       "21533     1.0   1.055338\n",
       "...       ...        ...\n",
       "5039      1.0   1.129270\n",
       "41961     1.0   1.094704\n",
       "18217     1.0   1.055338\n",
       "32149     1.0   1.055338\n",
       "26772     1.0   1.055338\n",
       "\n",
       "[202 rows x 2 columns]"
      ]
     },
     "execution_count": 105,
     "metadata": {},
     "output_type": "execute_result"
    }
   ],
   "source": [
    "#Now I will analyze how my predictions pair up with the actual values\n",
    "\n",
    "Y_predict_m = m_reg.predict(X_test_m)\n",
    "\n",
    "df_m = pd.DataFrame({'Actual': Y_test_m, 'Predicted': Y_predict_m})\n",
    "df_m"
   ]
  },
  {
   "cell_type": "code",
   "execution_count": 106,
   "id": "59fb307e",
   "metadata": {},
   "outputs": [
    {
     "name": "stdout",
     "output_type": "stream",
     "text": [
      "Mean Absolute Error: 0.15852734210876243\n",
      "Mean Squared Error (MSE): 0.09253953010856705\n",
      "Root Mean Squared Error: 0.304203106671459\n",
      "R-Squared: 0.006581692567752873\n"
     ]
    }
   ],
   "source": [
    "#Analyze the error in my predictive modeling\n",
    "\n",
    "print('Mean Absolute Error:', metrics.mean_absolute_error(Y_test_m, Y_predict_m))\n",
    "print('Mean Squared Error (MSE):', metrics.mean_squared_error(Y_test_m, Y_predict_m))\n",
    "print('Root Mean Squared Error:', np.sqrt(metrics.mean_squared_error(Y_test_m, Y_predict_m)))\n",
    "print(\"R-Squared:\", metrics.r2_score(Y_test_m, Y_predict_m))"
   ]
  },
  {
   "cell_type": "markdown",
   "id": "79b4d03b",
   "metadata": {},
   "source": [
    "### D) Running the Final Regression"
   ]
  },
  {
   "cell_type": "code",
   "execution_count": 107,
   "id": "5db9322b",
   "metadata": {
    "scrolled": false
   },
   "outputs": [
    {
     "data": {
      "text/html": [
       "<table class=\"simpletable\">\n",
       "<caption>OLS Regression Results</caption>\n",
       "<tr>\n",
       "  <th>Dep. Variable:</th>        <td>RECVDVACC</td>    <th>  R-squared:         </th> <td>   0.017</td>\n",
       "</tr>\n",
       "<tr>\n",
       "  <th>Model:</th>                   <td>OLS</td>       <th>  Adj. R-squared:    </th> <td>   0.014</td>\n",
       "</tr>\n",
       "<tr>\n",
       "  <th>Method:</th>             <td>Least Squares</td>  <th>  F-statistic:       </th> <td>   5.843</td>\n",
       "</tr>\n",
       "<tr>\n",
       "  <th>Date:</th>             <td>Sun, 12 Dec 2021</td> <th>  Prob (F-statistic):</th> <td>0.000588</td>\n",
       "</tr>\n",
       "<tr>\n",
       "  <th>Time:</th>                 <td>01:21:29</td>     <th>  Log-Likelihood:    </th> <td> -102.91</td>\n",
       "</tr>\n",
       "<tr>\n",
       "  <th>No. Observations:</th>      <td>  1008</td>      <th>  AIC:               </th> <td>   213.8</td>\n",
       "</tr>\n",
       "<tr>\n",
       "  <th>Df Residuals:</th>          <td>  1004</td>      <th>  BIC:               </th> <td>   233.5</td>\n",
       "</tr>\n",
       "<tr>\n",
       "  <th>Df Model:</th>              <td>     3</td>      <th>                     </th>     <td> </td>   \n",
       "</tr>\n",
       "<tr>\n",
       "  <th>Covariance Type:</th>      <td>nonrobust</td>    <th>                     </th>     <td> </td>   \n",
       "</tr>\n",
       "</table>\n",
       "<table class=\"simpletable\">\n",
       "<tr>\n",
       "      <td></td>         <th>coef</th>     <th>std err</th>      <th>t</th>      <th>P>|t|</th>  <th>[0.025</th>    <th>0.975]</th>  \n",
       "</tr>\n",
       "<tr>\n",
       "  <th>Intercept</th> <td>    1.0232</td> <td>    0.019</td> <td>   55.232</td> <td> 0.000</td> <td>    0.987</td> <td>    1.060</td>\n",
       "</tr>\n",
       "<tr>\n",
       "  <th>ANXIOUS</th>   <td>   -0.0301</td> <td>    0.017</td> <td>   -1.773</td> <td> 0.076</td> <td>   -0.063</td> <td>    0.003</td>\n",
       "</tr>\n",
       "<tr>\n",
       "  <th>DOWN</th>      <td>    0.0264</td> <td>    0.016</td> <td>    1.665</td> <td> 0.096</td> <td>   -0.005</td> <td>    0.057</td>\n",
       "</tr>\n",
       "<tr>\n",
       "  <th>WORRY</th>     <td>    0.0419</td> <td>    0.018</td> <td>    2.377</td> <td> 0.018</td> <td>    0.007</td> <td>    0.076</td>\n",
       "</tr>\n",
       "</table>\n",
       "<table class=\"simpletable\">\n",
       "<tr>\n",
       "  <th>Omnibus:</th>       <td>629.275</td> <th>  Durbin-Watson:     </th> <td>   2.078</td>\n",
       "</tr>\n",
       "<tr>\n",
       "  <th>Prob(Omnibus):</th> <td> 0.000</td>  <th>  Jarque-Bera (JB):  </th> <td>3911.949</td>\n",
       "</tr>\n",
       "<tr>\n",
       "  <th>Skew:</th>          <td> 3.041</td>  <th>  Prob(JB):          </th> <td>    0.00</td>\n",
       "</tr>\n",
       "<tr>\n",
       "  <th>Kurtosis:</th>      <td>10.494</td>  <th>  Cond. No.          </th> <td>    8.78</td>\n",
       "</tr>\n",
       "</table><br/><br/>Notes:<br/>[1] Standard Errors assume that the covariance matrix of the errors is correctly specified."
      ],
      "text/plain": [
       "<class 'statsmodels.iolib.summary.Summary'>\n",
       "\"\"\"\n",
       "                            OLS Regression Results                            \n",
       "==============================================================================\n",
       "Dep. Variable:              RECVDVACC   R-squared:                       0.017\n",
       "Model:                            OLS   Adj. R-squared:                  0.014\n",
       "Method:                 Least Squares   F-statistic:                     5.843\n",
       "Date:                Sun, 12 Dec 2021   Prob (F-statistic):           0.000588\n",
       "Time:                        01:21:29   Log-Likelihood:                -102.91\n",
       "No. Observations:                1008   AIC:                             213.8\n",
       "Df Residuals:                    1004   BIC:                             233.5\n",
       "Df Model:                           3                                         \n",
       "Covariance Type:            nonrobust                                         \n",
       "==============================================================================\n",
       "                 coef    std err          t      P>|t|      [0.025      0.975]\n",
       "------------------------------------------------------------------------------\n",
       "Intercept      1.0232      0.019     55.232      0.000       0.987       1.060\n",
       "ANXIOUS       -0.0301      0.017     -1.773      0.076      -0.063       0.003\n",
       "DOWN           0.0264      0.016      1.665      0.096      -0.005       0.057\n",
       "WORRY          0.0419      0.018      2.377      0.018       0.007       0.076\n",
       "==============================================================================\n",
       "Omnibus:                      629.275   Durbin-Watson:                   2.078\n",
       "Prob(Omnibus):                  0.000   Jarque-Bera (JB):             3911.949\n",
       "Skew:                           3.041   Prob(JB):                         0.00\n",
       "Kurtosis:                      10.494   Cond. No.                         8.78\n",
       "==============================================================================\n",
       "\n",
       "Notes:\n",
       "[1] Standard Errors assume that the covariance matrix of the errors is correctly specified.\n",
       "\"\"\""
      ]
     },
     "execution_count": 107,
     "metadata": {},
     "output_type": "execute_result"
    }
   ],
   "source": [
    "#Now I use explanatory modeling in order to show all of the important statistical values\n",
    "\n",
    "formula='RECVDVACC ~ ANXIOUS + DOWN + WORRY'\n",
    "model = smf.ols(formula, data=df_ML_10) \n",
    "tv_reg = model.fit()\n",
    "tv_reg.summary()"
   ]
  },
  {
   "cell_type": "markdown",
   "id": "9f7543f1",
   "metadata": {},
   "source": [
    "## Insights \n",
    "\n",
    "After running the multivariate regression for mental health measures vs recieving the vaccine I found that every mental health measure is statistically significant in predicting the variability in recieving the vaccine at a 90% confidence interval and Worry was at a 95% confidence interval. Both Down ratings and Worry ratings have a positive coefficient so this means that as the ratings for down and worry increase the rating for recieved a vaccine goes towards not recieving a vaccine. The opposit is true for anxiety where as anxiety increases the rating for having recieved the vaccine goes towards having gotten the vaccine."
   ]
  },
  {
   "cell_type": "markdown",
   "id": "e60f7c57",
   "metadata": {},
   "source": [
    "<img src=\"https://sa1s3optim.patientpop.com/assets/images/provider/photos/2305855.png\" style = \"float:middle; width:450px; height:300px;\"/>\n",
    "\n",
    "## Conclusion \n",
    "\n",
    "The analysis conducted in this research waranted some very interesting results. I found that during the winter on average the mental health ratings were higher meaning that on average people said that their mental health suffered more durng the winter. When comparing the mental health ratings for Hispanics vs non-hispanics I found that on average hispanics had worst mental health ratings than non-hispanics and for Worry there was a statistical significance for the difference between the two average ratings. For the regressions that I ran there was only a statistical significance for being hispanic predicting the variability for worry for the winter data but for the summer data being hispanic was statisticaly significant in predicting the variability of both the worry and anxious rankings. Then finally I found from the multivariate analysis that anxiety, worry, and feeling down all had a statistical significance in prediciing the variability of whether someone recieved a vaccine or not. Being anxious made someone more likely to recieve a vaccine while worrying and feeling down made people less likely to have recieved a vaccine. From my analysis my conclusion is that while physical health was affected by this virus, mental health was as well and especially for minority communities. As we seek solutions to getting out of this pandemic I not only believe that we have to emphasize public health, but we also need to emphasize mental health which can in turn make more people wish to get the vaccine and get us closer to the end of this pandemic. "
   ]
  },
  {
   "cell_type": "code",
   "execution_count": null,
   "id": "b5a6e4bc",
   "metadata": {},
   "outputs": [],
   "source": []
  }
 ],
 "metadata": {
  "kernelspec": {
   "display_name": "Python 3",
   "language": "python",
   "name": "python3"
  },
  "language_info": {
   "codemirror_mode": {
    "name": "ipython",
    "version": 3
   },
   "file_extension": ".py",
   "mimetype": "text/x-python",
   "name": "python",
   "nbconvert_exporter": "python",
   "pygments_lexer": "ipython3",
   "version": "3.8.8"
  }
 },
 "nbformat": 4,
 "nbformat_minor": 5
}
